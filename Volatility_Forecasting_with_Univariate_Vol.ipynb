{
  "nbformat": 4,
  "nbformat_minor": 0,
  "metadata": {
    "colab": {
      "name": "Volatility_Forecasting_with_Univariate_Vol.ipynb",
      "provenance": [],
      "collapsed_sections": [],
      "include_colab_link": true
    },
    "kernelspec": {
      "name": "python3",
      "display_name": "Python 3"
    }
  },
  "cells": [
    {
      "cell_type": "markdown",
      "metadata": {
        "id": "view-in-github",
        "colab_type": "text"
      },
      "source": [
        "<a href=\"https://colab.research.google.com/github/FinancialEngineerLab/finefinance/blob/master/Volatility_Forecasting_with_Univariate_Vol.ipynb\" target=\"_parent\"><img src=\"https://colab.research.google.com/assets/colab-badge.svg\" alt=\"Open In Colab\"/></a>"
      ]
    },
    {
      "cell_type": "markdown",
      "metadata": {
        "id": "Mkz2GSwU4rMo"
      },
      "source": [
        "\n",
        "\n",
        "---\n",
        "\n",
        "\n",
        "\n",
        "---\n",
        "\n",
        "Volatility Forecasting \n",
        "\n",
        "\n",
        "\n",
        "---\n",
        "\n",
        "\n",
        "\n",
        "---\n",
        "\n",
        "\n",
        "\n",
        "---\n",
        "\n",
        "\n",
        "Author : Hyunjin Shin\n",
        "\n",
        "# Analytical\n",
        "# Simulaton\n",
        "# Bootstrap"
      ]
    },
    {
      "cell_type": "code",
      "metadata": {
        "id": "G2tkqygS5JqQ",
        "colab": {
          "base_uri": "https://localhost:8080/",
          "height": 690
        },
        "outputId": "054f5367-6c3e-44ab-cb99-ecce4a3d1bfa"
      },
      "source": [
        "!pip install arch\n",
        "!pip install Quandl\n",
        "!pip install -U finance_datareader"
      ],
      "execution_count": null,
      "outputs": [
        {
          "output_type": "stream",
          "text": [
            "Requirement already satisfied: arch in /usr/local/lib/python3.6/dist-packages (4.14)\n",
            "Requirement already satisfied: property-cached>=1.6.3 in /usr/local/lib/python3.6/dist-packages (from arch) (1.6.4)\n",
            "Requirement already satisfied: cython>=0.29.14 in /usr/local/lib/python3.6/dist-packages (from arch) (0.29.19)\n",
            "Requirement already satisfied: numpy>=1.14 in /usr/local/lib/python3.6/dist-packages (from arch) (1.18.4)\n",
            "Requirement already satisfied: statsmodels>=0.9 in /usr/local/lib/python3.6/dist-packages (from arch) (0.10.2)\n",
            "Requirement already satisfied: pandas>=0.23 in /usr/local/lib/python3.6/dist-packages (from arch) (1.0.4)\n",
            "Requirement already satisfied: scipy>=1.0.1 in /usr/local/lib/python3.6/dist-packages (from arch) (1.4.1)\n",
            "Requirement already satisfied: patsy>=0.4.0 in /usr/local/lib/python3.6/dist-packages (from statsmodels>=0.9->arch) (0.5.1)\n",
            "Requirement already satisfied: pytz>=2017.2 in /usr/local/lib/python3.6/dist-packages (from pandas>=0.23->arch) (2018.9)\n",
            "Requirement already satisfied: python-dateutil>=2.6.1 in /usr/local/lib/python3.6/dist-packages (from pandas>=0.23->arch) (2.8.1)\n",
            "Requirement already satisfied: six in /usr/local/lib/python3.6/dist-packages (from patsy>=0.4.0->statsmodels>=0.9->arch) (1.12.0)\n",
            "Requirement already satisfied: Quandl in /usr/local/lib/python3.6/dist-packages (3.5.0)\n",
            "Requirement already satisfied: inflection>=0.3.1 in /usr/local/lib/python3.6/dist-packages (from Quandl) (0.4.0)\n",
            "Requirement already satisfied: more-itertools in /usr/local/lib/python3.6/dist-packages (from Quandl) (8.3.0)\n",
            "Requirement already satisfied: pandas>=0.14 in /usr/local/lib/python3.6/dist-packages (from Quandl) (1.0.4)\n",
            "Requirement already satisfied: requests>=2.7.0 in /usr/local/lib/python3.6/dist-packages (from Quandl) (2.23.0)\n",
            "Requirement already satisfied: numpy>=1.8 in /usr/local/lib/python3.6/dist-packages (from Quandl) (1.18.4)\n",
            "Requirement already satisfied: six in /usr/local/lib/python3.6/dist-packages (from Quandl) (1.12.0)\n",
            "Requirement already satisfied: python-dateutil in /usr/local/lib/python3.6/dist-packages (from Quandl) (2.8.1)\n",
            "Requirement already satisfied: pytz>=2017.2 in /usr/local/lib/python3.6/dist-packages (from pandas>=0.14->Quandl) (2018.9)\n",
            "Requirement already satisfied: certifi>=2017.4.17 in /usr/local/lib/python3.6/dist-packages (from requests>=2.7.0->Quandl) (2020.4.5.1)\n",
            "Requirement already satisfied: urllib3!=1.25.0,!=1.25.1,<1.26,>=1.21.1 in /usr/local/lib/python3.6/dist-packages (from requests>=2.7.0->Quandl) (1.24.3)\n",
            "Requirement already satisfied: idna<3,>=2.5 in /usr/local/lib/python3.6/dist-packages (from requests>=2.7.0->Quandl) (2.9)\n",
            "Requirement already satisfied: chardet<4,>=3.0.2 in /usr/local/lib/python3.6/dist-packages (from requests>=2.7.0->Quandl) (3.0.4)\n",
            "Requirement already up-to-date: finance_datareader in /usr/local/lib/python3.6/dist-packages (0.9.6)\n",
            "Requirement already satisfied, skipping upgrade: pandas>=0.19.2 in /usr/local/lib/python3.6/dist-packages (from finance_datareader) (1.0.4)\n",
            "Requirement already satisfied, skipping upgrade: lxml in /usr/local/lib/python3.6/dist-packages (from finance_datareader) (4.2.6)\n",
            "Requirement already satisfied, skipping upgrade: requests>=2.3.0 in /usr/local/lib/python3.6/dist-packages (from finance_datareader) (2.23.0)\n",
            "Requirement already satisfied, skipping upgrade: requests-file in /usr/local/lib/python3.6/dist-packages (from finance_datareader) (1.5.1)\n",
            "Requirement already satisfied, skipping upgrade: pytz>=2017.2 in /usr/local/lib/python3.6/dist-packages (from pandas>=0.19.2->finance_datareader) (2018.9)\n",
            "Requirement already satisfied, skipping upgrade: numpy>=1.13.3 in /usr/local/lib/python3.6/dist-packages (from pandas>=0.19.2->finance_datareader) (1.18.4)\n",
            "Requirement already satisfied, skipping upgrade: python-dateutil>=2.6.1 in /usr/local/lib/python3.6/dist-packages (from pandas>=0.19.2->finance_datareader) (2.8.1)\n",
            "Requirement already satisfied, skipping upgrade: idna<3,>=2.5 in /usr/local/lib/python3.6/dist-packages (from requests>=2.3.0->finance_datareader) (2.9)\n",
            "Requirement already satisfied, skipping upgrade: chardet<4,>=3.0.2 in /usr/local/lib/python3.6/dist-packages (from requests>=2.3.0->finance_datareader) (3.0.4)\n",
            "Requirement already satisfied, skipping upgrade: urllib3!=1.25.0,!=1.25.1,<1.26,>=1.21.1 in /usr/local/lib/python3.6/dist-packages (from requests>=2.3.0->finance_datareader) (1.24.3)\n",
            "Requirement already satisfied, skipping upgrade: certifi>=2017.4.17 in /usr/local/lib/python3.6/dist-packages (from requests>=2.3.0->finance_datareader) (2020.4.5.1)\n",
            "Requirement already satisfied, skipping upgrade: six in /usr/local/lib/python3.6/dist-packages (from requests-file->finance_datareader) (1.12.0)\n"
          ],
          "name": "stdout"
        }
      ]
    },
    {
      "cell_type": "code",
      "metadata": {
        "id": "MzGdx87yAbuD"
      },
      "source": [
        "### Load Library ###"
      ],
      "execution_count": null,
      "outputs": []
    },
    {
      "cell_type": "code",
      "metadata": {
        "id": "JYCzc1zY4iPY"
      },
      "source": [
        "import numpy as np\n",
        "import pandas as pd\n",
        "import sys\n",
        "import statsmodels\n",
        "import statsmodels.api as sm\n",
        "from statsmodels.tsa.stattools import coint, adfuller\n",
        "import matplotlib.pyplot as plt\n",
        "import FinanceDataReader as fdr\n",
        "import warnings\n",
        "import seaborn as sns\n",
        "import datetime as dt\n",
        "import scipy.stats as ss\n",
        "import quandl\n",
        "import io\n",
        "from arch import arch_model\n",
        "from pylab import *"
      ],
      "execution_count": null,
      "outputs": []
    },
    {
      "cell_type": "code",
      "metadata": {
        "id": "0o59AX1iAZ59"
      },
      "source": [
        "### Data Preprocessing ###"
      ],
      "execution_count": null,
      "outputs": []
    },
    {
      "cell_type": "code",
      "metadata": {
        "id": "h3R9bzxb5ONd"
      },
      "source": [
        "### Data ###\n",
        "\n",
        "now = datetime.datetime.today().strftime('%Y-%m-%d')\n",
        "\n",
        "def dataframe(ticker, start_date = '2008-01-01',end_date= now):\n",
        "    # Series Generation\n",
        "    df_list_1 = fdr.DataReader(ticker,  \"2008-01-01\",\"2008-12-31\")[['Open','High','Low','Close']]\n",
        "    df_list_2 = fdr.DataReader(ticker,  \"2009-01-01\",\"2009-12-31\")[['Open','High','Low','Close']]\n",
        "    df_list_3 = fdr.DataReader(ticker,  \"2010-01-01\",\"2010-12-31\")[['Open','High','Low','Close']]\n",
        "    df_list_4 = fdr.DataReader(ticker,  \"2011-01-01\",\"2011-12-31\")[['Open','High','Low','Close']]\n",
        "    df_list_5 = fdr.DataReader(ticker,  \"2012-01-01\",\"2012-12-31\")[['Open','High','Low','Close']]\n",
        "    df_list_6 = fdr.DataReader(ticker,  \"2013-01-01\",\"2013-12-31\")[['Open','High','Low','Close']]\n",
        "    df_list_7 = fdr.DataReader(ticker,  \"2014-01-01\",\"2014-12-31\")[['Open','High','Low','Close']]\n",
        "    df_list_8 = fdr.DataReader(ticker, \"2015-01-01\",\"2015-12-31\")[['Open','High','Low','Close']]\n",
        "    df_list_9 =fdr.DataReader(ticker,  \"2016-01-01\",\"2016-12-31\")[['Open','High','Low','Close']]\n",
        "    df_list_10 =fdr.DataReader(ticker, \"2017-01-01\",\"2017-12-31\")[['Open','High','Low','Close']]\n",
        "    df_list_11 =fdr.DataReader(ticker, \"2018-01-01\",\"2018-12-31\")[['Open','High','Low','Close']]\n",
        "    df_list_12 =fdr.DataReader(ticker, \"2019-01-01\",\"2019-12-31\")[['Open','High','Low','Close']]\n",
        "    df_list_13 =fdr.DataReader(ticker, \"2020-01-01\")[['Open','High','Low','Close']]\n",
        "                \n",
        "    ### data frame preprocessing ###\n",
        "    # axis transformation\n",
        "    # axis = 1이면 cbind, axis = 0이면 rbind\n",
        "    df_total = pd.concat([df_list_1, df_list_2, df_list_3, df_list_4,df_list_5, df_list_6, df_list_7, df_list_8,\n",
        "                          df_list_9, df_list_10, df_list_11, df_list_12, df_list_13])\n",
        "    df_total = df_total[(df_total.index >= start_date) & (df_total.index < end_date)]\n",
        "    # NA cleaning\n",
        "    df_raw0 = df_total[['Open','High','Low']]\n",
        "    df_raw = df_total['Close']\n",
        "    df_raw = df_raw.fillna(method = 'ffill')\n",
        "    df_raw0 = df_raw0.fillna(method = 'ffill')\n",
        "    df = pd.concat([df_raw0,df_raw], axis =1)\n",
        "\n",
        "    df.columns = [\"Open\",\"High\",\"Low\",\"Close\"]\n",
        "    df['returns'] = df.Close.pct_change().dropna()\n",
        "\n",
        "    return df"
      ],
      "execution_count": null,
      "outputs": []
    },
    {
      "cell_type": "code",
      "metadata": {
        "id": "6sexoCMy5OLn",
        "colab": {
          "base_uri": "https://localhost:8080/",
          "height": 228
        },
        "outputId": "d3ecb985-2050-4347-c749-87ed6618d9cb"
      },
      "source": [
        "data = dataframe('KS200', start_date = '2017-01-01')\n",
        "data.describe()\n",
        "data.tail(5)"
      ],
      "execution_count": null,
      "outputs": [
        {
          "output_type": "execute_result",
          "data": {
            "text/html": [
              "<div>\n",
              "<style scoped>\n",
              "    .dataframe tbody tr th:only-of-type {\n",
              "        vertical-align: middle;\n",
              "    }\n",
              "\n",
              "    .dataframe tbody tr th {\n",
              "        vertical-align: top;\n",
              "    }\n",
              "\n",
              "    .dataframe thead th {\n",
              "        text-align: right;\n",
              "    }\n",
              "</style>\n",
              "<table border=\"1\" class=\"dataframe\">\n",
              "  <thead>\n",
              "    <tr style=\"text-align: right;\">\n",
              "      <th></th>\n",
              "      <th>Open</th>\n",
              "      <th>High</th>\n",
              "      <th>Low</th>\n",
              "      <th>Close</th>\n",
              "      <th>returns</th>\n",
              "    </tr>\n",
              "    <tr>\n",
              "      <th>Date</th>\n",
              "      <th></th>\n",
              "      <th></th>\n",
              "      <th></th>\n",
              "      <th></th>\n",
              "      <th></th>\n",
              "    </tr>\n",
              "  </thead>\n",
              "  <tbody>\n",
              "    <tr>\n",
              "      <th>2020-05-29</th>\n",
              "      <td>266.62</td>\n",
              "      <td>269.61</td>\n",
              "      <td>265.23</td>\n",
              "      <td>268.32</td>\n",
              "      <td>0.000112</td>\n",
              "    </tr>\n",
              "    <tr>\n",
              "      <th>2020-06-01</th>\n",
              "      <td>269.29</td>\n",
              "      <td>273.39</td>\n",
              "      <td>268.93</td>\n",
              "      <td>273.19</td>\n",
              "      <td>0.018150</td>\n",
              "    </tr>\n",
              "    <tr>\n",
              "      <th>2020-06-02</th>\n",
              "      <td>272.65</td>\n",
              "      <td>276.47</td>\n",
              "      <td>272.22</td>\n",
              "      <td>276.08</td>\n",
              "      <td>0.010579</td>\n",
              "    </tr>\n",
              "    <tr>\n",
              "      <th>2020-06-03</th>\n",
              "      <td>279.14</td>\n",
              "      <td>287.49</td>\n",
              "      <td>278.98</td>\n",
              "      <td>285.91</td>\n",
              "      <td>0.035606</td>\n",
              "    </tr>\n",
              "    <tr>\n",
              "      <th>2020-06-04</th>\n",
              "      <td>291.17</td>\n",
              "      <td>292.90</td>\n",
              "      <td>284.93</td>\n",
              "      <td>286.45</td>\n",
              "      <td>0.001889</td>\n",
              "    </tr>\n",
              "  </tbody>\n",
              "</table>\n",
              "</div>"
            ],
            "text/plain": [
              "              Open    High     Low   Close   returns\n",
              "Date                                                \n",
              "2020-05-29  266.62  269.61  265.23  268.32  0.000112\n",
              "2020-06-01  269.29  273.39  268.93  273.19  0.018150\n",
              "2020-06-02  272.65  276.47  272.22  276.08  0.010579\n",
              "2020-06-03  279.14  287.49  278.98  285.91  0.035606\n",
              "2020-06-04  291.17  292.90  284.93  286.45  0.001889"
            ]
          },
          "metadata": {
            "tags": []
          },
          "execution_count": 30
        }
      ]
    },
    {
      "cell_type": "markdown",
      "metadata": {
        "id": "wj5OfqQu_qOJ"
      },
      "source": [
        "\n",
        "\n",
        "---\n",
        "\n",
        "\n",
        "\n",
        "---\n",
        "\n",
        "# Basic Forecasting #\n",
        "\n",
        "\n",
        "---\n",
        "\n",
        "\n",
        "\n",
        "---\n",
        "\n",
        "ARCH Model"
      ]
    },
    {
      "cell_type": "code",
      "metadata": {
        "id": "PCR9y3ILChdl",
        "colab": {
          "base_uri": "https://localhost:8080/",
          "height": 254
        },
        "outputId": "bea28a07-55d2-4963-b31a-34259c6cef05"
      },
      "source": [
        "returns = data['returns']\n",
        "returns"
      ],
      "execution_count": null,
      "outputs": [
        {
          "output_type": "execute_result",
          "data": {
            "text/plain": [
              "Date\n",
              "2017-01-02         NaN\n",
              "2017-01-03    0.010025\n",
              "2017-01-04    0.000570\n",
              "2017-01-05   -0.004333\n",
              "2017-01-06    0.004657\n",
              "                ...   \n",
              "2020-05-29    0.000112\n",
              "2020-06-01    0.018150\n",
              "2020-06-02    0.010579\n",
              "2020-06-03    0.035606\n",
              "2020-06-04    0.001889\n",
              "Name: returns, Length: 838, dtype: float64"
            ]
          },
          "metadata": {
            "tags": []
          },
          "execution_count": 32
        }
      ]
    },
    {
      "cell_type": "code",
      "metadata": {
        "id": "K8bdSWM15OJJ",
        "colab": {
          "base_uri": "https://localhost:8080/",
          "height": 472
        },
        "outputId": "656eae13-1091-4bf7-dac9-13a1fea47250"
      },
      "source": [
        "returns = data['returns'].dropna()\n",
        "price = data['Close']\n",
        "# ARCH (1,0,1)\n",
        "am = arch_model(price, vol='Garch', p=1, o=0, q=1, dist='Normal')\n",
        "res = am.fit(update_freq=5)\n",
        "forecasts = res.forecast(horizon=5)\n",
        "\n",
        "print(price.iloc[-2:])\n",
        "print(forecasts.mean.iloc[-2:])\n",
        "print(forecasts.residual_variance.iloc[-2:])\n",
        "print(forecasts.variance.iloc[-2:])"
      ],
      "execution_count": null,
      "outputs": [
        {
          "output_type": "stream",
          "text": [
            "Iteration:      5,   Func. Count:     35,   Neg. LLF: 3492.543318327739\n",
            "Iteration:     10,   Func. Count:     69,   Neg. LLF: 3469.8481793851824\n",
            "Iteration:     15,   Func. Count:    100,   Neg. LLF: 3468.346317285207\n",
            "Iteration:     20,   Func. Count:    130,   Neg. LLF: 3468.212900962939\n",
            "Optimization terminated successfully.    (Exit mode 0)\n",
            "            Current function value: 3468.21122114012\n",
            "            Iterations: 22\n",
            "            Function evaluations: 142\n",
            "            Gradient evaluations: 22\n",
            "Date\n",
            "2020-06-03    285.91\n",
            "2020-06-04    286.45\n",
            "Name: Close, dtype: float64\n",
            "                   h.1         h.2         h.3         h.4         h.5\n",
            "Date                                                                  \n",
            "2020-06-03         NaN         NaN         NaN         NaN         NaN\n",
            "2020-06-04  277.322827  277.322827  277.322827  277.322827  277.322827\n",
            "                  h.1        h.2        h.3         h.4         h.5\n",
            "Date                                                               \n",
            "2020-06-03        NaN        NaN        NaN         NaN         NaN\n",
            "2020-06-04  86.314174  90.994896  95.643038  100.258824  104.842482\n",
            "                  h.1        h.2        h.3         h.4         h.5\n",
            "Date                                                               \n",
            "2020-06-03        NaN        NaN        NaN         NaN         NaN\n",
            "2020-06-04  86.314174  90.994896  95.643038  100.258824  104.842482\n"
          ],
          "name": "stdout"
        }
      ]
    }
  ]
}