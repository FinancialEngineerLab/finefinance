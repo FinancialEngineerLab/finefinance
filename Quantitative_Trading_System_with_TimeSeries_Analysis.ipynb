{
  "nbformat": 4,
  "nbformat_minor": 0,
  "metadata": {
    "colab": {
      "name": "Quantitative Trading System with TimeSeries Analysis.ipynb",
      "private_outputs": true,
      "provenance": [],
      "collapsed_sections": [],
      "authorship_tag": "ABX9TyNERkQUlFwCpbwgLiZEkn9r",
      "include_colab_link": true
    },
    "kernelspec": {
      "name": "python3",
      "display_name": "Python 3"
    }
  },
  "cells": [
    {
      "cell_type": "markdown",
      "metadata": {
        "id": "view-in-github",
        "colab_type": "text"
      },
      "source": [
        "<a href=\"https://colab.research.google.com/github/FinancialEngineerLab/finefinance/blob/master/Quantitative_Trading_System_with_TimeSeries_Analysis.ipynb\" target=\"_parent\"><img src=\"https://colab.research.google.com/assets/colab-badge.svg\" alt=\"Open In Colab\"/></a>"
      ]
    },
    {
      "cell_type": "code",
      "metadata": {
        "id": "e1UQjh8BOrER"
      },
      "source": [
        "! pip install pmdarima\n",
        "! pip install -U finance-datareader\n",
        "! pip install -U sklearn"
      ],
      "execution_count": null,
      "outputs": []
    },
    {
      "cell_type": "code",
      "metadata": {
        "id": "3PzeuqfdOwxS"
      },
      "source": [
        "from pmdarima.arima import auto_arima\n",
        "from pmdarima.arima import ADFTest\n",
        "import pandas as pd\n",
        "import numpy as np\n",
        "import FinanceDataReader as fdr\n",
        "import matplotlib.pyplot as plt\n",
        "from sklearn.metrics import r2_score"
      ],
      "execution_count": null,
      "outputs": []
    },
    {
      "cell_type": "code",
      "metadata": {
        "id": "zplSFfAvOw0M"
      },
      "source": [
        "### Korea Stock List #\n",
        "\n",
        "df_krx = fdr.StockListing('KRX')\n",
        "print(len(df_krx))\n",
        "df_krx.head()"
      ],
      "execution_count": null,
      "outputs": []
    },
    {
      "cell_type": "code",
      "metadata": {
        "id": "4TTifK_kOw3i"
      },
      "source": [
        "## Korea Stock ##\n",
        "df_1 = fdr.DataReader('001250','2020')\n",
        "df_1.tail(10)\n",
        "df_1['Close'].plot()"
      ],
      "execution_count": null,
      "outputs": []
    },
    {
      "cell_type": "code",
      "metadata": {
        "id": "B-y5jE22QXdW"
      },
      "source": [
        "### US stock list ###\n",
        "\n",
        "df_spx = fdr.StockListing('S&P500')\n",
        "df_spx.head()\n",
        "print(len(df_spx))\n",
        "df_spx.head()"
      ],
      "execution_count": null,
      "outputs": []
    },
    {
      "cell_type": "code",
      "metadata": {
        "id": "MEBh6k4tQXge"
      },
      "source": [
        "## US Stock ##\n",
        "\n",
        "#df_2 = fdr.DataReader('AAPL', '2020')\n",
        "#ticker_list = [\"USD/JPY\",\"EUR/USD\",\"GBP/USD\",\n",
        "#              \"USD/CNY\",\"US500\",\n",
        "#              \"JP225\",\"NDX\",\"UK100\",\"EU50\",\"HCEI\", \"KS200\", \"DE30\",\n",
        "#               \"ZG\",\"HG\",\"PA\",\"T\", \"NG\",\"SI\"] \n",
        "\n",
        "df_2 = fdr.DataReader('HG', '2000')\n",
        "df_2 = df_2.fillna(method = 'ffill')\n",
        "df_2.head()\n",
        "df_2['Close'].plot()"
      ],
      "execution_count": null,
      "outputs": []
    },
    {
      "cell_type": "code",
      "metadata": {
        "id": "VJdiuxd3QwBx"
      },
      "source": [
        "### ARIMA ###\n",
        "\n",
        "adf_test = ADFTest(alpha = 0.05)\n",
        "adf_test.should_diff(df_2['Close'])"
      ],
      "execution_count": null,
      "outputs": []
    },
    {
      "cell_type": "code",
      "metadata": {
        "id": "7RVYzLrUSr98"
      },
      "source": [
        "train = df_2['Close'][:85]\n",
        "test = df_2['Close'][-20:] \n",
        "plt.plot(train)\n",
        "plt.plot(test)\n",
        "test"
      ],
      "execution_count": null,
      "outputs": []
    },
    {
      "cell_type": "code",
      "metadata": {
        "id": "oczdaZ-JTHuk"
      },
      "source": [
        "arima_model = auto_arima(train, start_p = 0, d=1, start_q=0,\n",
        "                         max_p = 5, max_d=5, max_q=5, start_P=0,\n",
        "                         D=1, start_Q=0, max_P=5, max_D=5,\n",
        "                         max_Q=5,m=12, seasonal=True, error_action='warn',\n",
        "                         trace=True, supress_warnings=True, stepwise=True,\n",
        "                         random_state = 20, n_fits=50)"
      ],
      "execution_count": null,
      "outputs": []
    },
    {
      "cell_type": "code",
      "metadata": {
        "id": "qVU7rUukQwE4"
      },
      "source": [
        "arima_model.summary()"
      ],
      "execution_count": null,
      "outputs": []
    },
    {
      "cell_type": "code",
      "metadata": {
        "id": "5VXaCJ_ETsdB"
      },
      "source": [
        "prediction = pd.DataFrame(arima_model.predict(n_periods=20), index=test.index)\n",
        "prediction.columns =['prediction futures price']\n",
        "prediction"
      ],
      "execution_count": null,
      "outputs": []
    },
    {
      "cell_type": "code",
      "metadata": {
        "id": "ZHXTg6RwT_3Q"
      },
      "source": [
        "plt.plot(train, label = \"Training\")\n",
        "plt.plot(test, label = \"Test\")\n",
        "plt.plot(prediction, label = \"Prediction\")\n",
        "plt.legend(loc = 'Left corner')\n",
        "plt.show()"
      ],
      "execution_count": null,
      "outputs": []
    },
    {
      "cell_type": "code",
      "metadata": {
        "id": "ZctbC6xlTsoy"
      },
      "source": [
        "test = pd.DataFrame(test)\n",
        "test.colmuns = ['Date','test']\n",
        "\n",
        "test['prediction'] = prediction\n",
        "\n",
        "test = test.dropna()\n",
        "\n",
        "r2_score(test['Close'], test['prediction'])"
      ],
      "execution_count": null,
      "outputs": []
    },
    {
      "cell_type": "code",
      "metadata": {
        "id": "pZznR6SsY1BE"
      },
      "source": [
        "arima_model_2 =auto_arima(df_2, start_p = 0, d=1, start_q=0,\n",
        "                         max_p = 5, max_d=5, max_q=5, start_P=0,\n",
        "                         D=1, start_Q=0, max_P=5, max_D=5,\n",
        "                         max_Q=5,m=12, seasonal=True, error_action='warn',\n",
        "                         trace=True, supress_warnings=True, stepwise=True,\n",
        "                         random_state = 20, n_fits=50)\n",
        "arima_model_2.summary"
      ],
      "execution_count": null,
      "outputs": []
    },
    {
      "cell_type": "code",
      "metadata": {
        "id": "VXeQZK5bZNDH"
      },
      "source": [
        "prediction_2= pd.DataFrame(arima_model_2.predict(n_periods=20), index=test.index)\n",
        "prediction_2.columns =['copper futures price']\n",
        "prediction_2"
      ],
      "execution_count": null,
      "outputs": []
    },
    {
      "cell_type": "code",
      "metadata": {
        "id": "JdmTCSLCWXFo"
      },
      "source": [
        "###### GOLD ######\n",
        "\n"
      ],
      "execution_count": null,
      "outputs": []
    },
    {
      "cell_type": "code",
      "metadata": {
        "id": "rO38e9HcVW-w"
      },
      "source": [
        ""
      ],
      "execution_count": null,
      "outputs": []
    }
  ]
}