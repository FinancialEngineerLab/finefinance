{
  "nbformat": 4,
  "nbformat_minor": 0,
  "metadata": {
    "colab": {
      "name": "Technical_Analysis(0615).ipynb",
      "provenance": [],
      "collapsed_sections": [],
      "include_colab_link": true
    },
    "kernelspec": {
      "name": "python3",
      "display_name": "Python 3"
    }
  },
  "cells": [
    {
      "cell_type": "markdown",
      "metadata": {
        "id": "view-in-github",
        "colab_type": "text"
      },
      "source": [
        "<a href=\"https://colab.research.google.com/github/FinancialEngineerLab/finefinance/blob/master/Technical_Analysis(0615).ipynb\" target=\"_parent\"><img src=\"https://colab.research.google.com/assets/colab-badge.svg\" alt=\"Open In Colab\"/></a>"
      ]
    },
    {
      "cell_type": "code",
      "metadata": {
        "id": "xfBbJLxR7CR3",
        "colab": {
          "base_uri": "https://localhost:8080/",
          "height": 635
        },
        "outputId": "ea033039-52bd-4a3b-9b4a-999dfce76a4c"
      },
      "source": [
        "# install library #\n",
        "!pip install -U finance_datareader\n",
        "#!wget http://prdownloads.sourceforge.net/ta-lib/ta-lib-0.4.0-src.tar.gz\n",
        "#!tar -xzvf ta-lib-0.4.0-src.tar.gz\n",
        "#%cd ta-lib\n",
        "#!./configure --prefix=/usr\n",
        "#!make\n",
        "#!make install\n",
        "!pip install quandl"
      ],
      "execution_count": null,
      "outputs": [
        {
          "output_type": "stream",
          "text": [
            "Collecting finance_datareader\n",
            "  Downloading https://files.pythonhosted.org/packages/2a/46/4e398780dfb1af6dba7b4ee8b440829b65e94b2726f1d2cc13015d41d172/finance_datareader-0.9.6-py3-none-any.whl\n",
            "Collecting requests-file\n",
            "  Downloading https://files.pythonhosted.org/packages/77/86/cdb5e8eaed90796aa83a6d9f75cfbd37af553c47a291cd47bc410ef9bdb2/requests_file-1.5.1-py2.py3-none-any.whl\n",
            "Requirement already satisfied, skipping upgrade: lxml in /usr/local/lib/python3.6/dist-packages (from finance_datareader) (4.2.6)\n",
            "Requirement already satisfied, skipping upgrade: pandas>=0.19.2 in /usr/local/lib/python3.6/dist-packages (from finance_datareader) (1.0.4)\n",
            "Requirement already satisfied, skipping upgrade: requests>=2.3.0 in /usr/local/lib/python3.6/dist-packages (from finance_datareader) (2.23.0)\n",
            "Requirement already satisfied, skipping upgrade: six in /usr/local/lib/python3.6/dist-packages (from requests-file->finance_datareader) (1.12.0)\n",
            "Requirement already satisfied, skipping upgrade: numpy>=1.13.3 in /usr/local/lib/python3.6/dist-packages (from pandas>=0.19.2->finance_datareader) (1.18.5)\n",
            "Requirement already satisfied, skipping upgrade: python-dateutil>=2.6.1 in /usr/local/lib/python3.6/dist-packages (from pandas>=0.19.2->finance_datareader) (2.8.1)\n",
            "Requirement already satisfied, skipping upgrade: pytz>=2017.2 in /usr/local/lib/python3.6/dist-packages (from pandas>=0.19.2->finance_datareader) (2018.9)\n",
            "Requirement already satisfied, skipping upgrade: idna<3,>=2.5 in /usr/local/lib/python3.6/dist-packages (from requests>=2.3.0->finance_datareader) (2.9)\n",
            "Requirement already satisfied, skipping upgrade: certifi>=2017.4.17 in /usr/local/lib/python3.6/dist-packages (from requests>=2.3.0->finance_datareader) (2020.4.5.1)\n",
            "Requirement already satisfied, skipping upgrade: chardet<4,>=3.0.2 in /usr/local/lib/python3.6/dist-packages (from requests>=2.3.0->finance_datareader) (3.0.4)\n",
            "Requirement already satisfied, skipping upgrade: urllib3!=1.25.0,!=1.25.1,<1.26,>=1.21.1 in /usr/local/lib/python3.6/dist-packages (from requests>=2.3.0->finance_datareader) (1.24.3)\n",
            "Installing collected packages: requests-file, finance-datareader\n",
            "Successfully installed finance-datareader-0.9.6 requests-file-1.5.1\n",
            "Collecting quandl\n",
            "  Downloading https://files.pythonhosted.org/packages/07/ab/8cd479fba8a9b197a43a0d55dd534b066fb8e5a0a04b5c0384cbc5d663aa/Quandl-3.5.0-py2.py3-none-any.whl\n",
            "Requirement already satisfied: six in /usr/local/lib/python3.6/dist-packages (from quandl) (1.12.0)\n",
            "Requirement already satisfied: requests>=2.7.0 in /usr/local/lib/python3.6/dist-packages (from quandl) (2.23.0)\n",
            "Requirement already satisfied: numpy>=1.8 in /usr/local/lib/python3.6/dist-packages (from quandl) (1.18.5)\n",
            "Requirement already satisfied: more-itertools in /usr/local/lib/python3.6/dist-packages (from quandl) (8.3.0)\n",
            "Requirement already satisfied: python-dateutil in /usr/local/lib/python3.6/dist-packages (from quandl) (2.8.1)\n",
            "Collecting inflection>=0.3.1\n",
            "  Downloading https://files.pythonhosted.org/packages/d2/cd/f04c661d1b5ba6b7d77008e8fedd28a27a683eeeffcd93c6b2dbe54ea983/inflection-0.5.0-py2.py3-none-any.whl\n",
            "Requirement already satisfied: pandas>=0.14 in /usr/local/lib/python3.6/dist-packages (from quandl) (1.0.4)\n",
            "Requirement already satisfied: certifi>=2017.4.17 in /usr/local/lib/python3.6/dist-packages (from requests>=2.7.0->quandl) (2020.4.5.1)\n",
            "Requirement already satisfied: urllib3!=1.25.0,!=1.25.1,<1.26,>=1.21.1 in /usr/local/lib/python3.6/dist-packages (from requests>=2.7.0->quandl) (1.24.3)\n",
            "Requirement already satisfied: chardet<4,>=3.0.2 in /usr/local/lib/python3.6/dist-packages (from requests>=2.7.0->quandl) (3.0.4)\n",
            "Requirement already satisfied: idna<3,>=2.5 in /usr/local/lib/python3.6/dist-packages (from requests>=2.7.0->quandl) (2.9)\n",
            "Requirement already satisfied: pytz>=2017.2 in /usr/local/lib/python3.6/dist-packages (from pandas>=0.14->quandl) (2018.9)\n",
            "Installing collected packages: inflection, quandl\n",
            "Successfully installed inflection-0.5.0 quandl-3.5.0\n"
          ],
          "name": "stdout"
        }
      ]
    },
    {
      "cell_type": "code",
      "metadata": {
        "id": "HyQKZor36zOy",
        "colab": {
          "base_uri": "https://localhost:8080/",
          "height": 54
        },
        "outputId": "289bb7bb-5e23-4dfd-81dc-9c124faa9102"
      },
      "source": [
        "import numpy as np\n",
        "import pandas as pd\n",
        "import statsmodels\n",
        "import statsmodels.api as sm\n",
        "from statsmodels.tsa.stattools import coint, adfuller\n",
        "import matplotlib.pyplot as plt\n",
        "import FinanceDataReader as fdr\n",
        "import seaborn\n",
        "import datetime\n",
        "import scipy.stats as ss\n",
        "import quandl\n",
        "import io\n",
        "from pylab import *"
      ],
      "execution_count": null,
      "outputs": [
        {
          "output_type": "stream",
          "text": [
            "/usr/local/lib/python3.6/dist-packages/statsmodels/tools/_testing.py:19: FutureWarning: pandas.util.testing is deprecated. Use the functions in the public API at pandas.testing instead.\n",
            "  import pandas.util.testing as tm\n"
          ],
          "name": "stderr"
        }
      ]
    },
    {
      "cell_type": "code",
      "metadata": {
        "id": "c7B_A1DbybNl",
        "colab": {
          "base_uri": "https://localhost:8080/",
          "height": 35
        },
        "outputId": "037d6b32-253b-4a34-b812-c55a44133471"
      },
      "source": [
        "# Excel #\n",
        "'''from google.colab import drive\n",
        "from google.colab import files\n",
        "\n",
        "drive.mount('/content/drive')\n",
        "\n",
        "#df = pd.read_excel('/content/drive/My Drive/Colab Notebook/2018년.xlsx')\n",
        "#\n",
        "## Excel Upload #\n",
        "uploaded = files.upload()'''\n",
        "#df = pd.read_csv(io.StringIO(uploaded['파일명.csv'].decode('utf-8')))"
      ],
      "execution_count": null,
      "outputs": [
        {
          "output_type": "execute_result",
          "data": {
            "text/plain": [
              "\"from google.colab import drive\\nfrom google.colab import files\\n\\ndrive.mount('/content/drive')\\n\\n#df = pd.read_excel('/content/drive/My Drive/Colab Notebook/2018년.xlsx')\\n#\\n## Excel Upload #\\nuploaded = files.upload()\""
            ]
          },
          "metadata": {
            "tags": []
          },
          "execution_count": 3
        }
      ]
    },
    {
      "cell_type": "code",
      "metadata": {
        "id": "E5pes40a7JuH"
      },
      "source": [
        "## Basic Functions ##\n",
        "\n",
        "now = datetime.datetime.today().strftime('%Y-%m-%d')\n",
        "\n",
        "## Data MGT ##\n",
        "def load_financial_data(ticker, start_date, end_date, output_file):\n",
        "  try:\n",
        "    df = pd.read_pickle(output_file)\n",
        "    print('File data found ... reading data')\n",
        "  except FileNotFoundError:\n",
        "    print('File not found ... downloading data')\n",
        "    df = pd.DataFrame(fdr.DataReader(ticker, start_date, end_date))\n",
        "    df.to_pickle(output_file)\n",
        "  return df\n",
        "\n",
        "def zscore(series):\n",
        "  return (series - series.mean())/ np.std(series)\n",
        "\n",
        "def zscore_rolling(series, window):\n",
        "    r = series.rolling(window=window)\n",
        "    m = r.mean().shift(1)\n",
        "    s = r.std(ddof=0).shift(1)\n",
        "    z = (series-m)/s\n",
        "    return z\n",
        "\n",
        "def signal_result(ticker, state_date = '2008-01-01', end_date=now, window = 20, rsi_long_2 = 10, rsi_long_1=25, rsi_short_2=90, rsi_short_1=75):\n",
        "    # Series Generation\n",
        "    df_list_1 = fdr.DataReader(ticker,  \"2008-01-01\",\"2008-12-31\")[['Open','High','Low','Close']]\n",
        "    df_list_2 = fdr.DataReader(ticker,  \"2009-01-01\",\"2009-12-31\")[['Open','High','Low','Close']]\n",
        "    df_list_3 = fdr.DataReader(ticker,  \"2010-01-01\",\"2010-12-31\")[['Open','High','Low','Close']]\n",
        "    df_list_4 = fdr.DataReader(ticker,  \"2011-01-01\",\"2011-12-31\")[['Open','High','Low','Close']]\n",
        "    df_list_5 = fdr.DataReader(ticker,  \"2012-01-01\",\"2012-12-31\")[['Open','High','Low','Close']]\n",
        "    df_list_6 = fdr.DataReader(ticker,  \"2013-01-01\",\"2013-12-31\")[['Open','High','Low','Close']]\n",
        "    df_list_7 = fdr.DataReader(ticker,  \"2014-01-01\",\"2014-12-31\")[['Open','High','Low','Close']]\n",
        "    df_list_8 = fdr.DataReader(ticker, \"2015-01-01\",\"2015-12-31\")[['Open','High','Low','Close']]\n",
        "    df_list_9 =fdr.DataReader(ticker,  \"2016-01-01\",\"2016-12-31\")[['Open','High','Low','Close']]\n",
        "    df_list_10 =fdr.DataReader(ticker, \"2017-01-01\",\"2017-12-31\")[['Open','High','Low','Close']]\n",
        "    df_list_11 =fdr.DataReader(ticker, \"2018-01-01\",\"2018-12-31\")[['Open','High','Low','Close']]\n",
        "    df_list_12 =fdr.DataReader(ticker, \"2019-01-01\",\"2019-12-31\")[['Open','High','Low','Close']]\n",
        "    df_list_13 =fdr.DataReader(ticker, \"2020-01-01\")[['Open','High','Low','Close']]\n",
        "                \n",
        "    ### data frame preprocessing ###\n",
        "    # axis transformation\n",
        "    # axis = 1이면 cbind, axis = 0이면 rbind\n",
        "    df_total = pd.concat([df_list_1, df_list_2, df_list_3, df_list_4,df_list_5, df_list_6, df_list_7, df_list_8,\n",
        "                          df_list_9, df_list_10, df_list_11, df_list_12, df_list_13])\n",
        "    df_total = df_total[(df_total.index >= start_date) & (df_total.index < end_date)]\n",
        "    # NA cleaning\n",
        "    df_raw0 = df_total[['Open','High','Low']]\n",
        "    df_raw = df_total['Close']\n",
        "    df_raw = df_raw.fillna(method = 'ffill')\n",
        "\n",
        "    # time delt calculation\n",
        "    #close = df_raw['Close']\n",
        "    delta = df_raw.diff()\n",
        "    delta = delta[1:]\n",
        "\n",
        "    ### RSI Calculation ###\n",
        "    \n",
        "    # + gain, - gain\n",
        "    up, down = delta.copy(), delta.copy()\n",
        "    up[up < 0] = 0\n",
        "    down[down > 0] = 0\n",
        "\n",
        "    # EWMA + RSI\n",
        "    roll_up1 = up.ewm(span = window).mean()\n",
        "    roll_down1 = down.abs().ewm(span = window).mean()\n",
        "    RSI_em = roll_up1 / roll_down1\n",
        "    RSI_ewm = 100.0 - (100.0 / (1.0 + RSI_em))\n",
        "\n",
        "    # SMA + RSI\n",
        "    roll_up2 = up.rolling(window).mean()\n",
        "    roll_down2 = down.abs().rolling(window).mean()\n",
        "    RSI_sm = roll_up2 / roll_down2\n",
        "    RSI_smm = 100.0 - (100.0 / (1.0 + RSI_sm))\n",
        "    \n",
        "    # return #\n",
        "    df = df_raw\n",
        "    df0 = pd.concat([df_raw0, df], axis =1)\n",
        "    df1 = pd.concat([df0, RSI_ewm], axis=1)\n",
        "    df2 = pd.concat([df1, RSI_smm],axis = 1)\n",
        "\n",
        "    # column labeling #\n",
        "    df2.columns = [\"Open\",\"High\",\"Low\",\"Close\", \"RSI_E\", \"RSI_S\"]\n",
        "\n",
        "    # Signal Evidence #\n",
        "    #df2[\"RSI_Spread\"] = df2[\"RSI_E\"] - df2[\"RSI_S\"]\n",
        "    #df2[\"Zscore\"] = zscore(df2[\"Close\"])\n",
        "    #df2[\"Zscore_roll\"] = zscore_rolling(df2[\"Close\"], window_z)\n",
        "    \n",
        "    #------------------------------------------------------------------------------------------------------------------------------------------------------------------#\n",
        "    #### RSI MAKERS ####\n",
        "    ### signal maker ###\n",
        "\n",
        "    # signal 1 : flag\n",
        "    df2[\"RSI_flag_short_90\"] = np.where(df2[\"RSI_S\"].shift(1) < 85, 1, 0)\n",
        "    df2[\"RSI_flag_short_75\"] = np.where(df2[\"RSI_S\"].shift(1) >= 75,1,0)\n",
        "    df2[\"RSI_flag_long_10\"] = np.where(df2[\"RSI_S\"].shift(1) > 10, 1, 0)\n",
        "    df2[\"RSI_flag_long_25\"] = np.where(df2[\"RSI_S\"].shift(1) <=25,1,0)\n",
        "    df2[\"RSI_flag_shortexit_65\"] = np.where(df2[\"RSI_S\"].shift(1) < 75, 1, 0)\n",
        "    df2[\"RSI_flag_shortexit_75\"] = np.where(df2[\"RSI_S\"].shift(1) >= 65,1,0)\n",
        "    df2[\"RSI_flag_longexit_25\"] = np.where(df2[\"RSI_S\"].shift(1) >25, 1, 0)\n",
        "    df2[\"RSI_flag_longexit_35\"] = np.where(df2[\"RSI_S\"].shift(1) <= 35,1,0)\n",
        "    # signal 2 : entry and exit                \n",
        "    df2[\"RSI_signal_1\"] = np.where(df2[\"RSI_S\"].shift(1) >= 85, -2, # short2 \n",
        "                                            (np.where(df2[\"RSI_S\"].shift(1) <= 10,+2,0))) # long 2\n",
        "\n",
        "    for i in np.arange(0, len(df2[\"RSI_signal_1\"])):\n",
        "        if df2[\"RSI_flag_short_90\"][i] == 1 and df2[\"RSI_flag_short_75\"][i] == 1:\n",
        "            df2[\"RSI_signal_1\"][i] = -1\n",
        "        if df2[\"RSI_flag_long_10\"][i] == 1 and df2[\"RSI_flag_long_25\"][i] == 1:\n",
        "            df2[\"RSI_signal_1\"][i] = 1\n",
        "        if df2[\"RSI_flag_shortexit_65\"][i] == 1 and df2[\"RSI_flag_shortexit_75\"][i] == 1:\n",
        "            df2[\"RSI_signal_1\"][i] = -0.5\n",
        "        if df2[\"RSI_flag_longexit_25\"][i] == 1 and df2[\"RSI_flag_longexit_35\"][i] == 1:\n",
        "            df2[\"RSI_signal_1\"][i] = 0.5\n",
        "    \n",
        "    #signal entry and exit\n",
        "    df2[\"RSI_signal_2\"] = 0\n",
        "    for i in np.arange(1,len(df2[\"RSI_signal_1\"])):\n",
        "        # short 1 entry\n",
        "        if df2[\"RSI_signal_1\"][i-1]  == -1 and df2[\"RSI_signal_1\"][i] == 0:\n",
        "            df2[\"RSI_signal_2\"][i] = -1\n",
        "        # long 1 entry\n",
        "        if df2[\"RSI_signal_1\"][i-1]  == +1 and df2[\"RSI_signal_1\"][i] == 0:\n",
        "            df2[\"RSI_signal_2\"][i] = +1            \n",
        "    for i in np.arange(1, len(df2[\"RSI_signal_1\"])):\n",
        "        # short 2 entry\n",
        "        if df2[\"RSI_signal_2\"][i-1] == -1 and df2[\"RSI_signal_1\"][i] == -2:\n",
        "            df2[\"RSI_signal_2\"][i] = -2\n",
        "        # long 2 entry\n",
        "        if df2[\"RSI_signal_2\"][i-1] == +1 and df2[\"RSI_signal_1\"][i] == +2:\n",
        "            df2[\"RSI_signal_2\"][i] = +2\n",
        "    for i in np.arange(1, len(df2[\"RSI_signal_2\"])):\n",
        "        # short 2 exit\n",
        "        if df2[\"RSI_signal_2\"][i-1] == -2 and df2[\"RSI_signal_2\"][i] == -1:\n",
        "            df2[\"RSI_signal_2\"][i] == -1\n",
        "        # long 2 exit\n",
        "        if df2[\"RSI_signal_2\"][i-1] == 2 and df2[\"RSI_signal_2\"][i] == 1:\n",
        "            df2[\"RSI_signal_2\"][i] == 1\n",
        "        # short 1 exit\n",
        "        if df2[\"RSI_signal_2\"][i-1] == -1 and df2[\"RSI_signal_2\"][i] == -0.5:\n",
        "            df2[\"RSI_signal_2\"][i] == 0\n",
        "        # long 1 exit\n",
        "        if df2[\"RSI_signal_2\"][i-1] == 1 and df2[\"RSI_signal_2\"][i] == 0.5:\n",
        "            df2[\"RSI_signal_2\"][i] == 0         \n",
        "\n",
        "    # signal remained    \n",
        "    for i in np.arange(2,len(df2[\"RSI_signal_2\"])):\n",
        "        if df2[\"RSI_signal_2\"][i-2] == -1 and df2[\"RSI_signal_2\"][i-1] == -1:\n",
        "            df2[\"RSI_signal_2\"][i] == -1\n",
        "        if df2[\"RSI_signal_2\"][i-2] == -2 and df2[\"RSI_signal_2\"][i-1] == -2:\n",
        "            df2[\"RSI_signal_2\"][i] == -2\n",
        "        if df2[\"RSI_signal_2\"][i-2] == 1 and df2[\"RSI_signal_2\"][i-1] == 1:\n",
        "            df2[\"RSI_signal_2\"][i] == 1\n",
        "        if df2[\"RSI_signal_2\"][i-2] == 2 and df2[\"RSI_signal_2\"][i-1] == 2:\n",
        "            df2[\"RSI_signal_2\"][i] == 2\n",
        "    # fill na\n",
        "    for i in np.arange(1,len(df2[\"RSI_signal_2\"])):\n",
        "        if df2[\"RSI_signal_2\"][i] == NaN:\n",
        "            df2[\"RSI_signal_2\"][i] = 0\n",
        "   \n",
        "\n",
        "    #  posiiton difference for trading quantity\n",
        "    df2[\"RSI_signal_3\"] = 0\n",
        "    for i in np.arange(1,len(df2[\"RSI_signal_2\"])):\n",
        "        df2[\"RSI_signal_3\"][i] = df2[\"RSI_signal_2\"][i] - df2[\"RSI_signal_2\"][i-1]\n",
        "    \n",
        "    # signal result : cummulative position\n",
        "    df2[\"RSI_signal_4\"]=0\n",
        "    for i in np.arange(1,len(df2[\"RSI_signal_3\"])):\n",
        "        df2[\"RSI_signal_4\"][0] = 0\n",
        "        df2[\"RSI_signal_4\"][i] = df2[\"RSI_signal_3\"][i-1] + df2[\"RSI_signal_3\"][i]\n",
        "    #------------------------------------------------------------------------------------------------------------------------------------------------------------------#\n",
        "    #df2[\"Zscore_signal\"] = np.where(df2[\"Zscore\"].shift(1)>=1, -1, (np.where(df2[\"Zscore\"].shift(1) <= -1, 1,0)))\n",
        "    #df2[\"Zscore_roll_signal\"] = np.where(df2[\"Zscore_roll\"].shift(1)>=1.5, -1, (np.where(df2[\"Zscore_roll\"].shift(1) <= -1.5, 1,0)))\n",
        "    #df2[\"RSI_Spread_Signal\"] = np.where(df2[\"RSI_Spread\"].shift(1) >=rsi_spread_point, 1,\n",
        "    #                                    (np.where(df2[\"RSI_Spread\"].shift(1) <= -rsi_spread_point, -1,0)))\n",
        "\n",
        "    return df2"
      ],
      "execution_count": null,
      "outputs": []
    },
    {
      "cell_type": "markdown",
      "metadata": {
        "id": "oyfUY3zBzr3J"
      },
      "source": [
        "\n",
        "\n",
        "---\n",
        "\n",
        "\n",
        "\n",
        "---\n",
        "\n",
        "\n",
        "**Visualization of Indicators**\n",
        "\n",
        "\n",
        "---\n",
        "\n",
        "\n",
        "\n",
        "---\n",
        "\n"
      ]
    },
    {
      "cell_type": "code",
      "metadata": {
        "id": "9ExHsqwbgjMa",
        "colab": {
          "base_uri": "https://localhost:8080/",
          "height": 672
        },
        "outputId": "5d840a52-87f5-46f2-e7e1-82419765e2fd"
      },
      "source": [
        "### Indicators Visualization Execution ###\n",
        "#ticker list : ### DataFrame ###\n",
        "#ticker_list = [\"USD/JPY\",\"EUR/USD\",\"GBP/USD\",\"US500\",\n",
        "#              \"JP225\",\"NDX\",\"UK100\",\"EU50\",\"HCEI\", \"KS200\", \"DE30\",\n",
        "#               \"GC\",\"HG\",\"PA\",\"CL\",\"SI\"]\n",
        "ticker = 'KS200'\n",
        "start_date = '2019-01-01'\n",
        "end_date = now\n",
        "window = 14\n",
        "window_z = 100\n",
        "rsi_spread_point =0\n",
        "initial = 1000000\n",
        "\n",
        "##\n",
        "\n",
        "df = signal_result(ticker,start_date, end_date, window, window_z,rsi_spread_point) # ticker, rsi periods, rolling z score periods"
      ],
      "execution_count": null,
      "outputs": [
        {
          "output_type": "stream",
          "text": [
            "/usr/local/lib/python3.6/dist-packages/ipykernel_launcher.py:114: SettingWithCopyWarning: \n",
            "A value is trying to be set on a copy of a slice from a DataFrame\n",
            "\n",
            "See the caveats in the documentation: https://pandas.pydata.org/pandas-docs/stable/user_guide/indexing.html#returning-a-view-versus-a-copy\n",
            "/usr/local/lib/python3.6/dist-packages/ipykernel_launcher.py:110: SettingWithCopyWarning: \n",
            "A value is trying to be set on a copy of a slice from a DataFrame\n",
            "\n",
            "See the caveats in the documentation: https://pandas.pydata.org/pandas-docs/stable/user_guide/indexing.html#returning-a-view-versus-a-copy\n",
            "/usr/local/lib/python3.6/dist-packages/ipykernel_launcher.py:116: SettingWithCopyWarning: \n",
            "A value is trying to be set on a copy of a slice from a DataFrame\n",
            "\n",
            "See the caveats in the documentation: https://pandas.pydata.org/pandas-docs/stable/user_guide/indexing.html#returning-a-view-versus-a-copy\n",
            "/usr/local/lib/python3.6/dist-packages/ipykernel_launcher.py:112: SettingWithCopyWarning: \n",
            "A value is trying to be set on a copy of a slice from a DataFrame\n",
            "\n",
            "See the caveats in the documentation: https://pandas.pydata.org/pandas-docs/stable/user_guide/indexing.html#returning-a-view-versus-a-copy\n",
            "/usr/local/lib/python3.6/dist-packages/ipykernel_launcher.py:123: SettingWithCopyWarning: \n",
            "A value is trying to be set on a copy of a slice from a DataFrame\n",
            "\n",
            "See the caveats in the documentation: https://pandas.pydata.org/pandas-docs/stable/user_guide/indexing.html#returning-a-view-versus-a-copy\n",
            "/usr/local/lib/python3.6/dist-packages/ipykernel_launcher.py:126: SettingWithCopyWarning: \n",
            "A value is trying to be set on a copy of a slice from a DataFrame\n",
            "\n",
            "See the caveats in the documentation: https://pandas.pydata.org/pandas-docs/stable/user_guide/indexing.html#returning-a-view-versus-a-copy\n",
            "/usr/local/lib/python3.6/dist-packages/ipykernel_launcher.py:167: SettingWithCopyWarning: \n",
            "A value is trying to be set on a copy of a slice from a DataFrame\n",
            "\n",
            "See the caveats in the documentation: https://pandas.pydata.org/pandas-docs/stable/user_guide/indexing.html#returning-a-view-versus-a-copy\n",
            "/usr/local/lib/python3.6/dist-packages/ipykernel_launcher.py:172: SettingWithCopyWarning: \n",
            "A value is trying to be set on a copy of a slice from a DataFrame\n",
            "\n",
            "See the caveats in the documentation: https://pandas.pydata.org/pandas-docs/stable/user_guide/indexing.html#returning-a-view-versus-a-copy\n",
            "/usr/local/lib/python3.6/dist-packages/ipykernel_launcher.py:173: SettingWithCopyWarning: \n",
            "A value is trying to be set on a copy of a slice from a DataFrame\n",
            "\n",
            "See the caveats in the documentation: https://pandas.pydata.org/pandas-docs/stable/user_guide/indexing.html#returning-a-view-versus-a-copy\n"
          ],
          "name": "stderr"
        }
      ]
    },
    {
      "cell_type": "code",
      "metadata": {
        "id": "bLknIobBaQQM",
        "colab": {
          "base_uri": "https://localhost:8080/",
          "height": 335
        },
        "outputId": "8b0fbf2b-2c49-4bcd-a91f-4a642635f27c"
      },
      "source": [
        "df.tail()"
      ],
      "execution_count": null,
      "outputs": [
        {
          "output_type": "execute_result",
          "data": {
            "text/html": [
              "<div>\n",
              "<style scoped>\n",
              "    .dataframe tbody tr th:only-of-type {\n",
              "        vertical-align: middle;\n",
              "    }\n",
              "\n",
              "    .dataframe tbody tr th {\n",
              "        vertical-align: top;\n",
              "    }\n",
              "\n",
              "    .dataframe thead th {\n",
              "        text-align: right;\n",
              "    }\n",
              "</style>\n",
              "<table border=\"1\" class=\"dataframe\">\n",
              "  <thead>\n",
              "    <tr style=\"text-align: right;\">\n",
              "      <th></th>\n",
              "      <th>Open</th>\n",
              "      <th>High</th>\n",
              "      <th>Low</th>\n",
              "      <th>Close</th>\n",
              "      <th>RSI_E</th>\n",
              "      <th>RSI_S</th>\n",
              "      <th>RSI_flag_short_90</th>\n",
              "      <th>RSI_flag_short_75</th>\n",
              "      <th>RSI_flag_long_10</th>\n",
              "      <th>RSI_flag_long_25</th>\n",
              "      <th>RSI_flag_shortexit_65</th>\n",
              "      <th>RSI_flag_shortexit_75</th>\n",
              "      <th>RSI_flag_longexit_25</th>\n",
              "      <th>RSI_flag_longexit_35</th>\n",
              "      <th>RSI_signal_1</th>\n",
              "      <th>RSI_signal_2</th>\n",
              "      <th>RSI_signal_3</th>\n",
              "      <th>RSI_signal_4</th>\n",
              "    </tr>\n",
              "    <tr>\n",
              "      <th>Date</th>\n",
              "      <th></th>\n",
              "      <th></th>\n",
              "      <th></th>\n",
              "      <th></th>\n",
              "      <th></th>\n",
              "      <th></th>\n",
              "      <th></th>\n",
              "      <th></th>\n",
              "      <th></th>\n",
              "      <th></th>\n",
              "      <th></th>\n",
              "      <th></th>\n",
              "      <th></th>\n",
              "      <th></th>\n",
              "      <th></th>\n",
              "      <th></th>\n",
              "      <th></th>\n",
              "      <th></th>\n",
              "    </tr>\n",
              "  </thead>\n",
              "  <tbody>\n",
              "    <tr>\n",
              "      <th>2020-06-09</th>\n",
              "      <td>293.96</td>\n",
              "      <td>294.87</td>\n",
              "      <td>287.83</td>\n",
              "      <td>291.32</td>\n",
              "      <td>91.956340</td>\n",
              "      <td>88.816504</td>\n",
              "      <td>0</td>\n",
              "      <td>1</td>\n",
              "      <td>1</td>\n",
              "      <td>0</td>\n",
              "      <td>0</td>\n",
              "      <td>1</td>\n",
              "      <td>1</td>\n",
              "      <td>0</td>\n",
              "      <td>-2</td>\n",
              "      <td>0</td>\n",
              "      <td>0</td>\n",
              "      <td>0</td>\n",
              "    </tr>\n",
              "    <tr>\n",
              "      <th>2020-06-10</th>\n",
              "      <td>291.03</td>\n",
              "      <td>292.92</td>\n",
              "      <td>289.60</td>\n",
              "      <td>291.90</td>\n",
              "      <td>92.233489</td>\n",
              "      <td>88.681319</td>\n",
              "      <td>0</td>\n",
              "      <td>1</td>\n",
              "      <td>1</td>\n",
              "      <td>0</td>\n",
              "      <td>0</td>\n",
              "      <td>1</td>\n",
              "      <td>1</td>\n",
              "      <td>0</td>\n",
              "      <td>-2</td>\n",
              "      <td>0</td>\n",
              "      <td>0</td>\n",
              "      <td>0</td>\n",
              "    </tr>\n",
              "    <tr>\n",
              "      <th>2020-06-11</th>\n",
              "      <td>289.98</td>\n",
              "      <td>292.08</td>\n",
              "      <td>284.29</td>\n",
              "      <td>288.62</td>\n",
              "      <td>75.303130</td>\n",
              "      <td>90.776153</td>\n",
              "      <td>0</td>\n",
              "      <td>1</td>\n",
              "      <td>1</td>\n",
              "      <td>0</td>\n",
              "      <td>0</td>\n",
              "      <td>1</td>\n",
              "      <td>1</td>\n",
              "      <td>0</td>\n",
              "      <td>-2</td>\n",
              "      <td>0</td>\n",
              "      <td>0</td>\n",
              "      <td>0</td>\n",
              "    </tr>\n",
              "    <tr>\n",
              "      <th>2020-06-12</th>\n",
              "      <td>276.97</td>\n",
              "      <td>282.54</td>\n",
              "      <td>276.05</td>\n",
              "      <td>281.78</td>\n",
              "      <td>52.232904</td>\n",
              "      <td>74.223128</td>\n",
              "      <td>0</td>\n",
              "      <td>1</td>\n",
              "      <td>1</td>\n",
              "      <td>0</td>\n",
              "      <td>0</td>\n",
              "      <td>1</td>\n",
              "      <td>1</td>\n",
              "      <td>0</td>\n",
              "      <td>-2</td>\n",
              "      <td>0</td>\n",
              "      <td>0</td>\n",
              "      <td>0</td>\n",
              "    </tr>\n",
              "    <tr>\n",
              "      <th>2020-06-15</th>\n",
              "      <td>278.61</td>\n",
              "      <td>280.87</td>\n",
              "      <td>267.95</td>\n",
              "      <td>267.95</td>\n",
              "      <td>30.460984</td>\n",
              "      <td>50.659250</td>\n",
              "      <td>1</td>\n",
              "      <td>0</td>\n",
              "      <td>1</td>\n",
              "      <td>0</td>\n",
              "      <td>1</td>\n",
              "      <td>1</td>\n",
              "      <td>1</td>\n",
              "      <td>0</td>\n",
              "      <td>0</td>\n",
              "      <td>0</td>\n",
              "      <td>0</td>\n",
              "      <td>0</td>\n",
              "    </tr>\n",
              "  </tbody>\n",
              "</table>\n",
              "</div>"
            ],
            "text/plain": [
              "              Open    High     Low  ...  RSI_signal_2  RSI_signal_3  RSI_signal_4\n",
              "Date                                ...                                          \n",
              "2020-06-09  293.96  294.87  287.83  ...             0             0             0\n",
              "2020-06-10  291.03  292.92  289.60  ...             0             0             0\n",
              "2020-06-11  289.98  292.08  284.29  ...             0             0             0\n",
              "2020-06-12  276.97  282.54  276.05  ...             0             0             0\n",
              "2020-06-15  278.61  280.87  267.95  ...             0             0             0\n",
              "\n",
              "[5 rows x 18 columns]"
            ]
          },
          "metadata": {
            "tags": []
          },
          "execution_count": 6
        }
      ]
    },
    {
      "cell_type": "code",
      "metadata": {
        "id": "vawg6wJcO4W_",
        "colab": {
          "base_uri": "https://localhost:8080/",
          "height": 283
        },
        "outputId": "06c0fb9e-c987-466a-e914-99f14b642346"
      },
      "source": [
        "df.RSI_signal_1.hist()"
      ],
      "execution_count": null,
      "outputs": [
        {
          "output_type": "execute_result",
          "data": {
            "text/plain": [
              "<matplotlib.axes._subplots.AxesSubplot at 0x7faa5bd4fb70>"
            ]
          },
          "metadata": {
            "tags": []
          },
          "execution_count": 7
        },
        {
          "output_type": "display_data",
          "data": {
            "image/png": "[encoded data removed]",
            "text/plain": [
              "<Figure size 432x288 with 1 Axes>"
            ]
          },
          "metadata": {
            "tags": [],
            "needs_background": "light"
          }
        }
      ]
    },
    {
      "cell_type": "code",
      "metadata": {
        "id": "L5AhsBjVfFYp",
        "colab": {
          "base_uri": "https://localhost:8080/",
          "height": 295
        },
        "outputId": "438cd89c-2c37-4a77-c4f4-a3c6b5c3ed9e"
      },
      "source": [
        "df.RSI_signal_1.plot()"
      ],
      "execution_count": null,
      "outputs": [
        {
          "output_type": "execute_result",
          "data": {
            "text/plain": [
              "<matplotlib.axes._subplots.AxesSubplot at 0x7faa5bbfdcc0>"
            ]
          },
          "metadata": {
            "tags": []
          },
          "execution_count": 8
        },
        {
          "output_type": "display_data",
          "data": {
            "image/png": "[encoded data removed]",
            "text/plain": [
              "<Figure size 432x288 with 1 Axes>"
            ]
          },
          "metadata": {
            "tags": [],
            "needs_background": "light"
          }
        }
      ]
    },
    {
      "cell_type": "code",
      "metadata": {
        "id": "dm2KBENIO4cP",
        "colab": {
          "base_uri": "https://localhost:8080/",
          "height": 181
        },
        "outputId": "9d4ebf99-f1b1-40cd-85dd-e5e022ad0bc8"
      },
      "source": [
        "df.RSI_signal_2.describe()"
      ],
      "execution_count": null,
      "outputs": [
        {
          "output_type": "execute_result",
          "data": {
            "text/plain": [
              "count    358.000000\n",
              "mean       0.011173\n",
              "std        0.224265\n",
              "min       -1.000000\n",
              "25%        0.000000\n",
              "50%        0.000000\n",
              "75%        0.000000\n",
              "max        1.000000\n",
              "Name: RSI_signal_2, dtype: float64"
            ]
          },
          "metadata": {
            "tags": []
          },
          "execution_count": 9
        }
      ]
    },
    {
      "cell_type": "code",
      "metadata": {
        "id": "JZvZEIf4e7J6",
        "colab": {
          "base_uri": "https://localhost:8080/",
          "height": 295
        },
        "outputId": "a356338c-129c-442e-c866-e7b026e08f55"
      },
      "source": [
        "df.RSI_signal_2.plot()"
      ],
      "execution_count": null,
      "outputs": [
        {
          "output_type": "execute_result",
          "data": {
            "text/plain": [
              "<matplotlib.axes._subplots.AxesSubplot at 0x7faa5b746b00>"
            ]
          },
          "metadata": {
            "tags": []
          },
          "execution_count": 10
        },
        {
          "output_type": "display_data",
          "data": {
            "image/png": "[encoded data removed]",
            "text/plain": [
              "<Figure size 432x288 with 1 Axes>"
            ]
          },
          "metadata": {
            "tags": [],
            "needs_background": "light"
          }
        }
      ]
    },
    {
      "cell_type": "code",
      "metadata": {
        "id": "yQFGhbMxPCcq",
        "colab": {
          "base_uri": "https://localhost:8080/",
          "height": 181
        },
        "outputId": "2e340cf1-5e0d-47d8-b5e9-ceb081068434"
      },
      "source": [
        "df.RSI_signal_3.describe()"
      ],
      "execution_count": null,
      "outputs": [
        {
          "output_type": "execute_result",
          "data": {
            "text/plain": [
              "count    358.000000\n",
              "mean       0.000000\n",
              "std        0.317554\n",
              "min       -1.000000\n",
              "25%        0.000000\n",
              "50%        0.000000\n",
              "75%        0.000000\n",
              "max        1.000000\n",
              "Name: RSI_signal_3, dtype: float64"
            ]
          },
          "metadata": {
            "tags": []
          },
          "execution_count": 11
        }
      ]
    },
    {
      "cell_type": "code",
      "metadata": {
        "id": "m2xlbhFcfC-g",
        "colab": {
          "base_uri": "https://localhost:8080/",
          "height": 295
        },
        "outputId": "4691ea97-6d29-4f87-8f71-9ce0244df96a"
      },
      "source": [
        "df.RSI_signal_3.plot()"
      ],
      "execution_count": null,
      "outputs": [
        {
          "output_type": "execute_result",
          "data": {
            "text/plain": [
              "<matplotlib.axes._subplots.AxesSubplot at 0x7faa5b6c33c8>"
            ]
          },
          "metadata": {
            "tags": []
          },
          "execution_count": 12
        },
        {
          "output_type": "display_data",
          "data": {
            "image/png": "[encoded data removed]",
            "text/plain": [
              "<Figure size 432x288 with 1 Axes>"
            ]
          },
          "metadata": {
            "tags": [],
            "needs_background": "light"
          }
        }
      ]
    },
    {
      "cell_type": "code",
      "metadata": {
        "id": "cYCmdRNQRiZb",
        "colab": {
          "base_uri": "https://localhost:8080/",
          "height": 181
        },
        "outputId": "3e936265-7e1d-4501-ccac-de97f591afe3"
      },
      "source": [
        "df.RSI_signal_3.describe()"
      ],
      "execution_count": null,
      "outputs": [
        {
          "output_type": "execute_result",
          "data": {
            "text/plain": [
              "count    358.000000\n",
              "mean       0.000000\n",
              "std        0.317554\n",
              "min       -1.000000\n",
              "25%        0.000000\n",
              "50%        0.000000\n",
              "75%        0.000000\n",
              "max        1.000000\n",
              "Name: RSI_signal_3, dtype: float64"
            ]
          },
          "metadata": {
            "tags": []
          },
          "execution_count": 13
        }
      ]
    },
    {
      "cell_type": "code",
      "metadata": {
        "id": "Mta0ewcR7Jxu"
      },
      "source": [
        "### Signal Visualization Execution 2 ###\n",
        "\n",
        "bigvalue = {'CL' : 1000, 'GC' : 100, 'KS200':250000, 'US500': 50, 'NDX' : 20, 'N225' : 500, 'DAX' : 25, 'GBP/USD':62500, 'EUR/USD':125000,'USD/JPY' : 12500000,'SI':5000,'HG':2500}\n",
        "now = datetime.datetime.today().strftime('%Y-%m-%d')\n",
        "\n",
        "def backtest(ticker, start_date = '2008-01-01', end_date = now, initial=100000000,\n",
        "             window = 14):\n",
        "    ## Frame ##\n",
        "    df = signal_result(ticker, state_date = '2008-01-01', end_date=now, window = 20)\n",
        "\n",
        "    bt = df[(df.index >= start_date) & (df.index < end_date)]\n",
        "\n",
        "    ## PNL ##    \n",
        "    bt['RSI_pnl_new'] = np.where(bt['RSI_signal_3'] >=1, bt['RSI_signal_3']*(bt['Close'] - bt['Open'])*bigvalue[ticker],\n",
        "                                  (np.where(bt['RSI_signal_3'] <=-1, -bt['RSI_signal_3']*(bt['Close'] - bt['Open'])*bigvalue[ticker], 0)))\n",
        "     \n",
        "    \n",
        "    bt['RSI_signal_3_lag'] = 0\n",
        "    for i in np.arange(1, len(df['RSI_signal_3'])):\n",
        "        bt['RSI_signal_3_lag'][i] = bt['RSI_signal_3'][i-1]\n",
        "\n",
        "    bt['Close_lag'] = 0\n",
        "    for i in np.arange(1, len(df['Close'])):\n",
        "        bt['Close_lag'][i] = bt['Close'][i-1]\n",
        "\n",
        "    bt['RSI_pnl_oldps'] = ((bt['RSI_signal_2'] -  bt['RSI_signal_3_lag']))\n",
        "    bt['RSI_pnl_old'] = np.where(bt['RSI_pnl_oldps'] > 0, bt['RSI_signal_2']*(bt['Close']-bt['Close_lag'])*bigvalue[ticker],\n",
        "                                 (np.where(bt['RSI_pnl_oldps'] < 0, bt['RSI_signal_2']*(bt['Close']-bt['Close_lag'])*bigvalue[ticker],0)))\n",
        "    \n",
        "    bt['RSI_pnl'] = bt['RSI_pnl_new'] + bt['RSI_pnl_old']\n",
        "\n",
        "    '''\n",
        "    bt['PNL_daily_zscore'] = (np.where(bt['Zscore_signal'] ==1,\n",
        "                                      abs(initial/(bt['Open']*bigvalue[ticker])).astype(int)*(bt['Open'].shift(-1) - bt['Open'])*bigvalue[ticker],\n",
        "                                      np.where(bt['Zscore_signal'] ==-1,-abs(initial/(bt['Open']*bigvalue[ticker])).astype(int)*(bt['Open'].shift(-1) - bt['Open'])*bigvalue[ticker],\n",
        "                                               0)))/initial + 1                \n",
        "    bt['PNL_total_zscore'] = bt['PNL_daily_zscore'].cumprod()-1\n",
        "    #\n",
        "    bt['PNL_daily_zscore_roll'] = (np.where(bt['Zscore_roll_signal'] ==1,\n",
        "                                      abs(initial/(bt['Open']*bigvalue[ticker])).astype(int)*(bt['Open'].shift(-1) - bt['Open'])*bigvalue[ticker],\n",
        "                                      np.where(bt['Zscore_roll_signal'] ==-1,-abs(initial/(bt['Open']*bigvalue[ticker])).astype(int)*(bt['Open'].shift(-1) - bt['Open'])*bigvalue[ticker],\n",
        "                                               0)))/initial+1                \n",
        "    bt['PNL_total_zscore_roll'] = bt['PNL_daily_zscore_roll'].cumprod()-1\n",
        "    #\n",
        "    bt['PNL_daily_rsi_spread'] = (np.where(bt['RSI_Spread_Signal'] ==1,\n",
        "                                      abs(initial/(bt['Open']*bigvalue[ticker])).astype(int)*(bt['Open'].shift(-1) - bt['Open'])*bigvalue[ticker],\n",
        "                                      np.where(bt['RSI_Spread_Signal'] ==-1,-abs(initial/(bt['Open']*bigvalue[ticker])).astype(int)*(bt['Open'].shift(-1) - bt['Open'])*bigvalue[ticker],\n",
        "                                               0)))/initial+1                \n",
        "    bt['PNL_total_rsi_spread'] = bt['PNL_daily_rsi_spread'].cumprod()-1\n",
        "    '''\n",
        "    return bt\n",
        "\n",
        "def benchmark(bt, start_date='2008-01-01', end_date= now, ticker='KS200'):\n",
        "\n",
        "    df_list_1 = fdr.DataReader(ticker,  \"2008-01-01\",\"2008-12-31\")[['Open','High','Low','Close']]\n",
        "    df_list_2 = fdr.DataReader(ticker,  \"2009-01-01\",\"2009-12-31\")[['Open','High','Low','Close']]\n",
        "    df_list_3 = fdr.DataReader(ticker,  \"2010-01-01\",\"2010-12-31\")[['Open','High','Low','Close']]\n",
        "    df_list_4 = fdr.DataReader(ticker,  \"2011-01-01\",\"2011-12-31\")[['Open','High','Low','Close']]\n",
        "    df_list_5 = fdr.DataReader(ticker,  \"2012-01-01\",\"2012-12-31\")[['Open','High','Low','Close']]\n",
        "    df_list_6 = fdr.DataReader(ticker,  \"2013-01-01\",\"2013-12-31\")[['Open','High','Low','Close']]\n",
        "    df_list_7 = fdr.DataReader(ticker,  \"2014-01-01\",\"2014-12-31\")[['Open','High','Low','Close']]\n",
        "    df_list_8 = fdr.DataReader(ticker, \"2015-01-01\",\"2015-12-31\")[['Open','High','Low','Close']]\n",
        "    df_list_9 =fdr.DataReader(ticker,  \"2016-01-01\",\"2016-12-31\")[['Open','High','Low','Close']]\n",
        "    df_list_10 =fdr.DataReader(ticker, \"2017-01-01\",\"2017-12-31\")[['Open','High','Low','Close']]\n",
        "    df_list_11 =fdr.DataReader(ticker, \"2018-01-01\",\"2018-12-31\")[['Open','High','Low','Close']]\n",
        "    df_list_12 =fdr.DataReader(ticker, \"2019-01-01\",\"2019-12-31\")[['Open','High','Low','Close']]\n",
        "    df_list_13 =fdr.DataReader(ticker, \"2020-01-01\")[['Open','High','Low','Close']]\n",
        "                \n",
        "    df_total = pd.concat([df_list_1, df_list_2, df_list_3, df_list_4,df_list_5, df_list_6, df_list_7, df_list_8,\n",
        "                          df_list_9, df_list_10, df_list_11, df_list_12, df_list_13]) \n",
        "    # NA cleaning\n",
        "    df_raw0 = df_total[['Open','High','Low']]\n",
        "    df_raw = df_total['Close']\n",
        "    df_raw = df_raw.fillna(method = 'ffill')\n",
        "\n",
        "    bench = df_raw / df_raw.shift(1)\n",
        "    bench2 = bench.cumprod()-1\n",
        "    bt['Benchmark'] = bench2\n",
        "\n",
        "def hpr_result(bt):\n",
        "    bt['RSI_pnl_2'] = (bt['RSI_pnl'] / initial + 1).cumprod()-1\n",
        "    a = bt['RSI_pnl_2']\n",
        "    return a[-2]"
      ],
      "execution_count": null,
      "outputs": []
    },
    {
      "cell_type": "code",
      "metadata": {
        "id": "Pa0TQyVVM9GS",
        "colab": {
          "base_uri": "https://localhost:8080/",
          "height": 191
        },
        "outputId": "862c1956-b618-44cc-ea75-8bc488431047"
      },
      "source": [
        "b = hpr_result(result)\n",
        "b"
      ],
      "execution_count": null,
      "outputs": [
        {
          "output_type": "error",
          "ename": "NameError",
          "evalue": "ignored",
          "traceback": [
            "\u001b[0;31m---------------------------------------------------------------------------\u001b[0m",
            "\u001b[0;31mNameError\u001b[0m                                 Traceback (most recent call last)",
            "\u001b[0;32m<ipython-input-15-8436f380d2f2>\u001b[0m in \u001b[0;36m<module>\u001b[0;34m()\u001b[0m\n\u001b[0;32m----> 1\u001b[0;31m \u001b[0mb\u001b[0m \u001b[0;34m=\u001b[0m \u001b[0mhpr_result\u001b[0m\u001b[0;34m(\u001b[0m\u001b[0mresult\u001b[0m\u001b[0;34m)\u001b[0m\u001b[0;34m\u001b[0m\u001b[0;34m\u001b[0m\u001b[0m\n\u001b[0m\u001b[1;32m      2\u001b[0m \u001b[0mb\u001b[0m\u001b[0;34m\u001b[0m\u001b[0;34m\u001b[0m\u001b[0m\n",
            "\u001b[0;31mNameError\u001b[0m: name 'result' is not defined"
          ]
        }
      ]
    },
    {
      "cell_type": "code",
      "metadata": {
        "id": "_mqKzCdm4d0J"
      },
      "source": [
        "def mdd(bt, initial =1000000):\n",
        "\n",
        "    bt['RSI_pnl_2'] = (bt['RSI_pnl'])/initial+1\n",
        "    bt['RSI_pnl_3'] = bt['RSI_pnl_2'].cumprod()\n",
        "    bt['RSI_dd'] = (bt['RSI_pnl_3'].cummax() - bt['RSI_pnl_3'])/ bt['RSI_pnl_3'].cummax() * 100\n",
        "    mdd = bt['RSI_dd'].max()\n",
        "    \n",
        "    return mdd\n",
        "\n",
        "    '''bt['PNL_daily_zscore_2'] = (np.where(bt['Zscore_signal'] ==1,\n",
        "                                      abs(initial/(bt['Open']*bigvalue[ticker])).astype(int)*(bt['Open'].shift(-1) - bt['Open'])*bigvalue[ticker],\n",
        "                                      np.where(bt['Zscore_signal'] ==-1,-abs(initial/(bt['Open']*bigvalue[ticker])).astype(int)*(bt['Open'].shift(-1) - bt['Open'])*bigvalue[ticker],\n",
        "                                               0)))/initial + 1                \n",
        "    bt['PNL_total_zscore_2'] = bt['PNL_daily_zscore_2'].cumprod()\n",
        "    #\n",
        "    bt['PNL_daily_zscore_roll_2'] = (np.where(bt['Zscore_roll_signal'] ==1,\n",
        "                                      abs(initial/(bt['Open']*bigvalue[ticker])).astype(int)*(bt['Open'].shift(-1) - bt['Open'])*bigvalue[ticker],\n",
        "                                      np.where(bt['Zscore_roll_signal'] ==-1,-abs(initial/(bt['Open']*bigvalue[ticker])).astype(int)*(bt['Open'].shift(-1) - bt['Open'])*bigvalue[ticker],\n",
        "                                               0)))/initial+1                \n",
        "    bt['PNL_total_zscore_roll_2'] = bt['PNL_daily_zscore_roll_2'].cumprod()\n",
        "    #\n",
        "    bt['PNL_daily_rsi_spread_2'] = (np.where(bt['RSI_Spread_Signal'] ==1,\n",
        "                                      abs(initial/(bt['Open']*bigvalue[ticker])).astype(int)*(bt['Open'].shift(-1) - bt['Open'])*bigvalue[ticker],\n",
        "                                      np.where(bt['RSI_Spread_Signal'] ==-1,-abs(initial/(bt['Open']*bigvalue[ticker])).astype(int)*(bt['Open'].shift(-1) - bt['Open'])*bigvalue[ticker],\n",
        "                                               0)))/initial+1                \n",
        "    bt['PNL_total_rsi_spread_2'] = bt['PNL_daily_rsi_spread_2'].cumprod()\n",
        "    #\n",
        "    bt['mdd_zscore_2'] =(bt['PNL_total_zscore_2'].cummax() - bt['PNL_total_zscore_2']) / bt['PNL_total_zscore_2'].cummax() * 100\n",
        "    bt['mdd_zscore_rolling_2'] =(bt['PNL_total_zscore_roll_2'].cummax() - bt['PNL_total_zscore_roll_2'])/ bt['PNL_total_zscore_roll_2'].cummax() * 100\n",
        "    bt['mdd_rsi_spread_2'] =(bt['PNL_total_rsi_spread_2'].cummax() - bt['PNL_total_rsi_spread_2'])/ bt['PNL_total_rsi_spread_2'].cummax() * 100\n",
        "\n",
        "    mdd_zscore = bt['mdd_zscore_2'].max()\n",
        "    mdd_zscore_rolling = bt['mdd_zscore_rolling_2'].max()\n",
        "    mdd_rsi_spread = bt['mdd_rsi_spread_2'].max()\n",
        "\n",
        "    return mdd_zscore, mdd_zscore_rolling, mdd_rsi_spread'''"
      ],
      "execution_count": null,
      "outputs": []
    },
    {
      "cell_type": "markdown",
      "metadata": {
        "id": "j4pDekXo4dvA"
      },
      "source": [
        ""
      ]
    },
    {
      "cell_type": "code",
      "metadata": {
        "id": "EeL4MwhEEaXk"
      },
      "source": [
        "## MDD Results ##\n",
        "##ticker, start_date, end_date, initial, window(for rsi), window_z(for rolling z score), rsi_spread_point(for signal)\n",
        "#result = backtest('CL', start_date= '2008-01-01', end_date='2010-01-01',window = 14, window_z=120, rsi_spread_point = 10)\n",
        "#print(mdd(result))"
      ],
      "execution_count": null,
      "outputs": []
    },
    {
      "cell_type": "code",
      "metadata": {
        "id": "lSHodYx-1YkS"
      },
      "source": [
        "### Visualization ###\n",
        "\n",
        "#ticker_list = [\"USD/JPY\",\"EUR/USD\",\"GBP/USD\",\"US500\",\n",
        "#              \"JP225\",\"NDX\",\"UK100\",\"EU50\",\"HCEI\", \"KS200\", \"DE30\",\n",
        "#               \"GC\",\"HG\",\"PA\",\"CL\",\"SI\"] \n",
        "#ticker = 'CL'\n",
        "#start_date = '2008-01-01'\n",
        "#end_date ='2010-01-01'\n",
        "#window = 14\n",
        "#window_z =120\n",
        "#rsi_spread_point =10\n",
        "ticker = 'KS200'\n",
        "start_date = '2019-01-01'\n",
        "end_date = now\n",
        "window = 14\n",
        "initial = 1000000\n",
        "\n",
        "# Setting #\n",
        "result = backtest(ticker, start_date, end_date,initial, window)"
      ],
      "execution_count": null,
      "outputs": []
    },
    {
      "cell_type": "code",
      "metadata": {
        "id": "BAahqcawNvcI"
      },
      "source": [
        "result.RSI_pnl.plot()"
      ],
      "execution_count": null,
      "outputs": []
    },
    {
      "cell_type": "code",
      "metadata": {
        "id": "Y7OCVL-UtijC"
      },
      "source": [
        "benchmark(result,  start_date, end_date)"
      ],
      "execution_count": null,
      "outputs": []
    },
    {
      "cell_type": "markdown",
      "metadata": {
        "id": "ktbiOmOjoUzO"
      },
      "source": [
        "\n",
        "\n",
        "---\n",
        "HPR results & MDD results\n",
        "\n",
        "\n",
        "---\n",
        "\n",
        "\n"
      ]
    },
    {
      "cell_type": "code",
      "metadata": {
        "id": "UxM-t6hknDc1"
      },
      "source": [
        "## Results ##\n",
        "##ticker, start_date, end_date, initial, window(for rsi), window_z(for rolling z score), rsi_spread_point(for signal)\n",
        "#ticker\n",
        "#start date\n",
        "#end date\n",
        "# window, window_z, rsi_spread_point\n",
        "hpr_result(result)"
      ],
      "execution_count": null,
      "outputs": []
    },
    {
      "cell_type": "code",
      "metadata": {
        "id": "CXkYrxhinDZn"
      },
      "source": [
        "## MDD Results ##\n",
        "##ticker, start_date, end_date, initial, window(for rsi), window_z(for rolling z score), rsi_spread_point(for signal)\n",
        "\n",
        "#ticker\n",
        "#start date\n",
        "#end date\n",
        "# window, window_z, rsi_spread_point\n",
        "\n",
        "result = backtest(ticker, start_date, end_date,initial,window)\n",
        "print(mdd(result))"
      ],
      "execution_count": null,
      "outputs": []
    },
    {
      "cell_type": "markdown",
      "metadata": {
        "id": "mWTG5vx6HUmS"
      },
      "source": [
        "\n",
        "\n",
        "---\n",
        "\n",
        "\n",
        "\n",
        "---\n",
        "\n",
        "\n",
        "\n",
        "---\n",
        "\n",
        "Trash Cabin\n",
        "\n",
        "\n",
        "---\n",
        "\n",
        "\n",
        "\n",
        "---\n",
        "\n",
        "\n",
        "\n",
        "---\n",
        "\n"
      ]
    }
  ]
}