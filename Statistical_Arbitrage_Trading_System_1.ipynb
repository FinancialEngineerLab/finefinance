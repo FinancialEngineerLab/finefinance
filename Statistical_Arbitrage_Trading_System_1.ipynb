{
  "nbformat": 4,
  "nbformat_minor": 0,
  "metadata": {
    "colab": {
      "name": "Statistical Arbitrage Trading System_1.ipynb",
      "provenance": [],
      "collapsed_sections": [],
      "authorship_tag": "ABX9TyPdo6GJL0VB13UErOl4CmrX",
      "include_colab_link": true
    },
    "kernelspec": {
      "name": "python3",
      "display_name": "Python 3"
    }
  },
  "cells": [
    {
      "cell_type": "markdown",
      "metadata": {
        "id": "view-in-github",
        "colab_type": "text"
      },
      "source": [
        "<a href=\"https://colab.research.google.com/github/FinancialEngineerLab/finefinance/blob/master/Statistical_Arbitrage_Trading_System_1.ipynb\" target=\"_parent\"><img src=\"https://colab.research.google.com/assets/colab-badge.svg\" alt=\"Open In Colab\"/></a>"
      ]
    },
    {
      "cell_type": "markdown",
      "metadata": {
        "id": "moQwTpFa9pmB"
      },
      "source": [
        "Systematic Statistical Arbitrage Algorithmic Trading\n",
        "\n",
        "---\n",
        "\n",
        "\n",
        "Author : Shin Hyunjin (Quantitative Trader)\n"
      ]
    },
    {
      "cell_type": "code",
      "metadata": {
        "id": "wHcpZgua9iov",
        "colab": {
          "base_uri": "https://localhost:8080/"
        },
        "outputId": "47105630-2d41-4da6-e887-34a8c37a65ba"
      },
      "source": [
        "# install library #\n",
        "!pip install -U finance_datareader\n",
        "!wget http://prdownloads.sourceforge.net/ta-lib/ta-lib-0.4.0-src.tar.gz\n",
        "!./configure --prefix=/usr\n",
        "!make\n",
        "!make install\n",
        "#!pip install Ta-Lib"
      ],
      "execution_count": null,
      "outputs": [
        {
          "output_type": "stream",
          "text": [
            "Collecting finance_datareader\n",
            "  Downloading https://files.pythonhosted.org/packages/ce/97/914f9c07de0edad6c1df84f0ee778b4fb5985d862eecf95a0ba3600ac109/finance_datareader-0.9.12-py3-none-any.whl\n",
            "Requirement already satisfied, skipping upgrade: lxml in /usr/local/lib/python3.6/dist-packages (from finance_datareader) (4.2.6)\n",
            "Requirement already satisfied, skipping upgrade: pandas>=0.19.2 in /usr/local/lib/python3.6/dist-packages (from finance_datareader) (1.1.5)\n",
            "Requirement already satisfied, skipping upgrade: tqdm in /usr/local/lib/python3.6/dist-packages (from finance_datareader) (4.41.1)\n",
            "Collecting requests-file\n",
            "  Downloading https://files.pythonhosted.org/packages/77/86/cdb5e8eaed90796aa83a6d9f75cfbd37af553c47a291cd47bc410ef9bdb2/requests_file-1.5.1-py2.py3-none-any.whl\n",
            "Requirement already satisfied, skipping upgrade: requests>=2.3.0 in /usr/local/lib/python3.6/dist-packages (from finance_datareader) (2.23.0)\n",
            "Requirement already satisfied, skipping upgrade: python-dateutil>=2.7.3 in /usr/local/lib/python3.6/dist-packages (from pandas>=0.19.2->finance_datareader) (2.8.1)\n",
            "Requirement already satisfied, skipping upgrade: pytz>=2017.2 in /usr/local/lib/python3.6/dist-packages (from pandas>=0.19.2->finance_datareader) (2018.9)\n",
            "Requirement already satisfied, skipping upgrade: numpy>=1.15.4 in /usr/local/lib/python3.6/dist-packages (from pandas>=0.19.2->finance_datareader) (1.19.4)\n",
            "Requirement already satisfied, skipping upgrade: six in /usr/local/lib/python3.6/dist-packages (from requests-file->finance_datareader) (1.15.0)\n",
            "Requirement already satisfied, skipping upgrade: urllib3!=1.25.0,!=1.25.1,<1.26,>=1.21.1 in /usr/local/lib/python3.6/dist-packages (from requests>=2.3.0->finance_datareader) (1.24.3)\n",
            "Requirement already satisfied, skipping upgrade: certifi>=2017.4.17 in /usr/local/lib/python3.6/dist-packages (from requests>=2.3.0->finance_datareader) (2020.12.5)\n",
            "Requirement already satisfied, skipping upgrade: chardet<4,>=3.0.2 in /usr/local/lib/python3.6/dist-packages (from requests>=2.3.0->finance_datareader) (3.0.4)\n",
            "Requirement already satisfied, skipping upgrade: idna<3,>=2.5 in /usr/local/lib/python3.6/dist-packages (from requests>=2.3.0->finance_datareader) (2.10)\n",
            "Installing collected packages: requests-file, finance-datareader\n",
            "Successfully installed finance-datareader-0.9.12 requests-file-1.5.1\n",
            "--2020-12-23 23:23:09--  http://prdownloads.sourceforge.net/ta-lib/ta-lib-0.4.0-src.tar.gz\n",
            "Resolving prdownloads.sourceforge.net (prdownloads.sourceforge.net)... 216.105.38.13\n",
            "Connecting to prdownloads.sourceforge.net (prdownloads.sourceforge.net)|216.105.38.13|:80... connected.\n",
            "HTTP request sent, awaiting response... 301 Moved Permanently\n",
            "Location: http://downloads.sourceforge.net/project/ta-lib/ta-lib/0.4.0/ta-lib-0.4.0-src.tar.gz [following]\n",
            "--2020-12-23 23:23:09--  http://downloads.sourceforge.net/project/ta-lib/ta-lib/0.4.0/ta-lib-0.4.0-src.tar.gz\n",
            "Resolving downloads.sourceforge.net (downloads.sourceforge.net)... 216.105.38.13\n",
            "Reusing existing connection to prdownloads.sourceforge.net:80.\n",
            "HTTP request sent, awaiting response... 302 Found\n",
            "Location: https://managedway.dl.sourceforge.net/project/ta-lib/ta-lib/0.4.0/ta-lib-0.4.0-src.tar.gz [following]\n",
            "--2020-12-23 23:23:09--  https://managedway.dl.sourceforge.net/project/ta-lib/ta-lib/0.4.0/ta-lib-0.4.0-src.tar.gz\n",
            "Resolving managedway.dl.sourceforge.net (managedway.dl.sourceforge.net)... 208.79.213.6\n",
            "Connecting to managedway.dl.sourceforge.net (managedway.dl.sourceforge.net)|208.79.213.6|:443... connected.\n",
            "HTTP request sent, awaiting response... 200 OK\n",
            "Length: 1330299 (1.3M) [application/x-gzip]\n",
            "Saving to: ‘ta-lib-0.4.0-src.tar.gz’\n",
            "\n",
            "ta-lib-0.4.0-src.ta 100%[===================>]   1.27M  7.59MB/s    in 0.2s    \n",
            "\n",
            "2020-12-23 23:23:10 (7.59 MB/s) - ‘ta-lib-0.4.0-src.tar.gz’ saved [1330299/1330299]\n",
            "\n",
            "/bin/bash: ./configure: No such file or directory\n",
            "make: *** No targets specified and no makefile found.  Stop.\n",
            "make: *** No rule to make target 'install'.  Stop.\n"
          ],
          "name": "stdout"
        }
      ]
    },
    {
      "cell_type": "code",
      "metadata": {
        "id": "_neNqIH39pVD"
      },
      "source": [
        "import numpy as np\n",
        "import pandas as pd\n",
        "import statsmodels\n",
        "import statsmodels.api as sm\n",
        "from statsmodels.tsa.stattools import coint, adfuller\n",
        "import matplotlib.pyplot as plt\n",
        "import FinanceDataReader as fdr\n",
        "import seaborn\n",
        "import datetime\n",
        "import scipy.stats as ss"
      ],
      "execution_count": null,
      "outputs": []
    },
    {
      "cell_type": "markdown",
      "metadata": {
        "id": "3HKq2Ey7Borc"
      },
      "source": [
        "\n",
        "---\n",
        "\n",
        "\n",
        "Data Frame Maker\n",
        "\n",
        "\n",
        "---\n"
      ]
    },
    {
      "cell_type": "code",
      "metadata": {
        "id": "iQuhooERAvBH"
      },
      "source": [
        "## Data MGT ##\n",
        "def load_financial_data(ticker, start_date, end_date, output_file):\n",
        "  try:\n",
        "    df = pd.read_pickle(output_file)\n",
        "    print('File data found ... reading data')\n",
        "  except FileNotFoundError:\n",
        "    print('File not found ... downloading data')\n",
        "    df = pd.DataFrame(fdr.DataReader(ticker, start_date, end_date))\n",
        "    df.to_pickle(output_file)\n",
        "  return df\n",
        "\n",
        "def find_cointegrated_pairs(data):\n",
        "  n = data.shape[1]\n",
        "  score_matrix = np.zeros((n,n))\n",
        "  pvalue_matrix = np.ones((n,n))\n",
        "  keys = data.keys()\n",
        "  pairs = []\n",
        "  for i in range(n):\n",
        "    for j in range(i+1, n):\n",
        "      S1 = data[keys[i]]\n",
        "      S2 = data[keys[j]]\n",
        "      result = coint(S1, S2)\n",
        "      score = result[0]\n",
        "      pvalue = result[1]\n",
        "      score_matrix[i,j] = score\n",
        "      pvalue_matrix[i, j] = pvalue\n",
        "      if pvalue <= 0.02: # Significanc level\n",
        "        pairs.append((keys[i], keys[j]))\n",
        "  return score_matrix, pvalue_matrix, pairs\n",
        "\n",
        "def zscore(series):\n",
        "  return (series - series.mean())/ np.std(series)\n",
        "\n",
        "# basic concept of stationarity #\n",
        "def generate_data(params):\n",
        "  mu = params[0]\n",
        "  sigma = params[1]\n",
        "  return np.random.normal(mu, sigma)\n",
        "\n",
        "def stationarity_test(X, cutoff= 0.02):\n",
        "  pvalue = adfuller(X)[1]\n",
        "  if pvlalue < cutoff:\n",
        "    print('p-value = '+str(pvalue) + 'The Series '+ X.name + ' is likely stationary.')\n",
        "  else:\n",
        "    print('p-value = ' + str(pvalue) + 'The Series' + X.name +' is likely nonstationary.')"
      ],
      "execution_count": null,
      "outputs": []
    },
    {
      "cell_type": "code",
      "metadata": {
        "id": "uQNKwQccA1Q8"
      },
      "source": [
        "### DataFrame ###\n",
        "ticker_list = [\"SPY\", \"JPY/KRW\", \"GBP/USD\",\"EUR/USD\",\n",
        "              \"JP225\",\"USTEC\",\"EU50\",\"HCEI\", \"KS200\", \"DE30\",\n",
        "               \"ZG\",\"HG\",\"T\", \"ZI\"] # hangseng no working\n",
        "              # HO : lean hog, GF :feeder Faddle, HE : lean hog, LE :live Cattle, ZC corn, ZL :soybean oil, RR : rice Oc1:oatmeal, zW: wheat\n",
        "symbolsids = ticker_list\n",
        "\n",
        "# time transformation #\n",
        "today = datetime.datetime.today()\n",
        "time1 = today + datetime.timedelta(days = -180)\n",
        "time2 = today + datetime.timedelta(days = -365)\n",
        "time3 = today + datetime.timedelta(days = -500)\n",
        "time4 = today + datetime.timedelta(days = -3000)\n",
        "time1 = datetime.datetime.strftime(time1,\"%Y-%m-%d\")\n",
        "time2 = datetime.datetime.strftime(time2,\"%Y-%m-%d\")\n",
        "time3 =datetime.datetime.strftime(time3,\"%Y-%m-%d\")\n",
        "time4 = datetime.datetime.strftime(time4,\"%Y-%m-%d\")\n",
        "\n",
        "## DataFrame Maker ##\n",
        "#import re\n",
        "#ticker_list = re.sub('[-=+,#‘|>`\\'…》]','',symbolsids)\n",
        "df_list_wtm = [fdr.DataReader(ticker, time1,)['Close'] for ticker in ticker_list]\n",
        "df_list_mtm = [fdr.DataReader(ticker, time2)['Close'] for ticker in ticker_list]\n",
        "df_list_year =[fdr.DataReader(ticker, time3)['Close'] for ticker in ticker_list]\n",
        "df_list_total =[fdr.DataReader(ticker, time4)['Close'] for ticker in ticker_list]\n",
        "\n",
        "#ZM , ZS, Platinum: soybean 제외\n",
        "#df_list_1 = [fdr.DataReader(ticker, \"2010-01-01\",\"2010-12-31\")['Close'] for ticker in ticker_list]\n",
        "#df_list_2 = [fdr.DataReader(ticker, \"2011-01-01\",\"2011-12-31\")['Close'] for ticker in ticker_list]\n",
        "#df_list_3 =[fdr.DataReader(ticker,  \"2012-01-01\",\"2012-12-31\")['Close'] for ticker in ticker_list]\n",
        "#df_list_4 =[fdr.DataReader(ticker,  \"2013-01-01\",\"2013-12-31\")['Close'] for ticker in ticker_list]\n",
        "#df_list_5 = [fdr.DataReader(ticker,  \"2014-01-01\",\"2014-12-31\")['Close'] for ticker in ticker_list]\n",
        "df_list_6 = [fdr.DataReader(ticker, \"2015-01-01\",\"2015-12-31\")['Close'] for ticker in ticker_list]\n",
        "df_list_7 =[fdr.DataReader(ticker,  \"2016-01-01\",\"2016-12-31\")['Close'] for ticker in ticker_list]\n",
        "df_list_8 =[fdr.DataReader(ticker, \"2017-01-01\",\"2017-12-31\")['Close'] for ticker in ticker_list]\n",
        "df_list_9 =[fdr.DataReader(ticker, \"2018-01-01\",\"2018-12-31\")['Close'] for ticker in ticker_list]\n",
        "df_list_10 =[fdr.DataReader(ticker, \"2019-01-01\",\"2019-12-31\")['Close'] for ticker in ticker_list]\n",
        "df_list_11 =[fdr.DataReader(ticker, \"2020-01-01\")['Close'] for ticker in ticker_list]\n",
        "\n",
        "#df_list_1 = pd.concat(df_list_1,axis=1)\n",
        "#df_list_2 = pd.concat(df_list_2,axis=1)\n",
        "#df_list_3 = pd.concat(df_list_3,axis=1)\n",
        "#df_list_4 = pd.concat(df_list_4,axis=1)\n",
        "#df_list_5 = pd.concat(df_list_5,axis=1)\n",
        "df_list_6 = pd.concat(df_list_6,axis=1)\n",
        "df_list_7 = pd.concat(df_list_7,axis=1)\n",
        "df_list_8 = pd.concat(df_list_8,axis=1)\n",
        "df_list_9 = pd.concat(df_list_9,axis=1)\n",
        "df_list_10 = pd.concat(df_list_10,axis=1)\n",
        "df_list_11 = pd.concat(df_list_11,axis=1)\n",
        "df_total = pd.concat([df_list_6,df_list_7,df_list_8,df_list_9,df_list_10, df_list_11])\n",
        "\n",
        "\n",
        "#df_list = pd.DataFrame(df_list)\n",
        "df1_raw = pd.concat(df_list_wtm, axis=1)\n",
        "df2_raw = pd.concat(df_list_mtm, axis=1)\n",
        "df3_raw = pd.concat(df_list_year, axis=1)\n",
        "df4_raw = df_total\n",
        "\n",
        "df1_raw.columns = ticker_list\n",
        "df1_raw = df1_raw.fillna(method = 'ffill')\n",
        "df2_raw.columns = ticker_list\n",
        "df2_raw = df2_raw.fillna(method = 'ffill')\n",
        "df3_raw.columns = ticker_list\n",
        "df3_raw = df3_raw.fillna(method = 'ffill')\n",
        "df4_raw.columns = ticker_list\n",
        "df4_raw = df4_raw.fillna(method = 'ffill')\n",
        "\n",
        "#df1 = np.log(df1_raw/df1_raw.shift(1))\n",
        "#df2 = np.log(df2_raw/df2_raw.shift(1))\n",
        "##df3 = np.log(df3_raw/df3_raw.shift(1))\n",
        "#df4 = np.log(df4_raw/df4_raw.shift(1))\n",
        "df1 = df1_raw\n",
        "df2 = df2_raw\n",
        "df3 = df3_raw\n",
        "df4 = df4_raw\n",
        "\n",
        "df1.columns = ticker_list\n",
        "df1 = df1.dropna()\n",
        "df2.columns = ticker_list\n",
        "df2 = df2.dropna()\n",
        "df3.columns = ticker_list\n",
        "df3 = df3.dropna()\n",
        "df4.columns = ticker_list\n",
        "df4 = df4.dropna()\n",
        "#print(df.head())\n",
        "#df\n",
        "\n",
        "score1, pvalues1, pairs1 = find_cointegrated_pairs(df1)\n",
        "score2, pvalues2, pairs2 = find_cointegrated_pairs(df2)\n",
        "score3, pvalues3, pairs3 = find_cointegrated_pairs(df3)\n",
        "score4, pvalues4, pairs4 = find_cointegrated_pairs(df4)"
      ],
      "execution_count": null,
      "outputs": []
    },
    {
      "cell_type": "markdown",
      "metadata": {
        "id": "fya8itAj_iZm"
      },
      "source": [
        ""
      ]
    },
    {
      "cell_type": "code",
      "metadata": {
        "id": "lusohC_fA1PM",
        "colab": {
          "base_uri": "https://localhost:8080/",
          "height": 318
        },
        "outputId": "7004d49e-cd83-4eb2-8fed-4379d94399cd"
      },
      "source": [
        "#pvalues visulization\n",
        "seaborn.heatmap(pvalues4, xticklabels = symbolsids,\n",
        "                yticklabels = symbolsids, cmap = 'RdYlGn_r',\n",
        "                mask = (pvalues4 >= 0.98)) # significance level"
      ],
      "execution_count": null,
      "outputs": [
        {
          "output_type": "execute_result",
          "data": {
            "text/plain": [
              "<matplotlib.axes._subplots.AxesSubplot at 0x7fda7fd83b38>"
            ]
          },
          "metadata": {
            "tags": []
          },
          "execution_count": 8
        },
        {
          "output_type": "display_data",
          "data": {
            "image/png": "[encoded data removed]",
            "text/plain": [
              "<Figure size 432x288 with 2 Axes>"
            ]
          },
          "metadata": {
            "tags": [],
            "needs_background": "light"
          }
        }
      ]
    },
    {
      "cell_type": "code",
      "metadata": {
        "id": "CqJwYdJxGr8l",
        "colab": {
          "base_uri": "https://localhost:8080/",
          "height": 102
        },
        "outputId": "8df900e2-2715-4d14-8111-25db5312a8a0"
      },
      "source": [
        "#print(pairs,len(pairs))\n",
        "result_pairs = list(set(pairs1).intersection(pairs2,pairs3,pairs4))\n",
        "result_pairs_2 = list(set(pairs2).intersection(pairs3))\n",
        "result_pairs_4= list(set(pairs4))\n",
        "result_pairs_3= list(set(pairs3))\n",
        "\n",
        "result_pairs_short = list(set(pairs1))\n",
        "result_pairs_mid = list(set(pairs2))\n",
        "\n",
        "pairs4\n",
        "#result_pairs_2"
      ],
      "execution_count": null,
      "outputs": [
        {
          "output_type": "execute_result",
          "data": {
            "text/plain": [
              "[('EUR/USD', 'KS200'),\n",
              " ('EUR/USD', 'HG'),\n",
              " ('EU50', 'HCEI'),\n",
              " ('KS200', 'HG'),\n",
              " ('DE30', 'HG')]"
            ]
          },
          "metadata": {
            "tags": []
          },
          "execution_count": 9
        }
      ]
    },
    {
      "cell_type": "markdown",
      "metadata": {
        "id": "w6VD9_mrGxhJ"
      },
      "source": [
        "\n",
        "\n",
        "---\n",
        "\n",
        "\n",
        "Spread Calculation\n",
        "\n",
        "\n",
        "---\n",
        "\n"
      ]
    },
    {
      "cell_type": "code",
      "metadata": {
        "id": "c-IfBPwRGxZb",
        "colab": {
          "base_uri": "https://localhost:8080/",
          "height": 604
        },
        "outputId": "67337f43-a6bf-4f79-c1b8-b31dd03e3b2f"
      },
      "source": [
        "## Pair Selection Results ##\n",
        "\n",
        "# 주요 Pair : GOld copper, US10 -Bund10, Copper-US10, JP10Y - Yen\n",
        "# GBP - KS200\n",
        "# Palladium, Platinum\n",
        "\n",
        "ticker_result_1 = \"EUR/USD\"\n",
        "ticker_result_2 = \"KS200\"\n",
        "\n",
        "S1 = df4[ticker_result_1]\n",
        "S2 = df4[ticker_result_2]\n",
        "\n",
        "S1 = S1.dropna()\n",
        "S2 = S2.dropna()\n",
        "\n",
        "#S1 = pd.DataFrame(S1)\n",
        "#S2 = pd.DataFrame(S2)\n",
        "\n",
        "S1 = sm.add_constant(S1)\n",
        "results = sm.OLS(S2, S1).fit()\n",
        "S1 = S1[ticker_result_1]\n",
        "b = results.params[1]\n",
        "\n",
        "# spread #\n",
        "\n",
        "spread=  S2 - b * S1\n",
        "spread.plot(figsize = (12,6))\n",
        "plt.axhline(spread.mean(), color = 'black')\n",
        "plt.legend(['Spread'])\n",
        "plt.title('Pair Spread Results')\n",
        "plt.grid()\n",
        "\n",
        "df4[ticker_result_2]"
      ],
      "execution_count": null,
      "outputs": [
        {
          "output_type": "execute_result",
          "data": {
            "text/plain": [
              "Date\n",
              "2015-01-05    244.26\n",
              "2015-01-06    239.93\n",
              "2015-01-07    240.53\n",
              "2015-01-08    243.94\n",
              "2015-01-09    246.05\n",
              "               ...  \n",
              "2020-09-23    309.64\n",
              "2020-09-24    302.48\n",
              "2020-09-25    303.57\n",
              "2020-09-26    303.57\n",
              "2020-09-27    303.57\n",
              "Name: KS200, Length: 1800, dtype: float64"
            ]
          },
          "metadata": {
            "tags": []
          },
          "execution_count": 10
        },
        {
          "output_type": "display_data",
          "data": {
            "image/png": "[encoded data removed]",
            "text/plain": [
              "<Figure size 864x432 with 1 Axes>"
            ]
          },
          "metadata": {
            "tags": [],
            "needs_background": "light"
          }
        }
      ]
    },
    {
      "cell_type": "code",
      "metadata": {
        "id": "1KsTIzYQ8i6a",
        "colab": {
          "base_uri": "https://localhost:8080/",
          "height": 383
        },
        "outputId": "97265bdf-0454-4dbc-cd87-68bd7b1d5065"
      },
      "source": [
        "\n",
        "## Ratio Zscore ##\n",
        "#ratio =pd.DataFrame(ratio)\n",
        "\n",
        "zscore(spread).plot(figsize=  (12,6))\n",
        "plt.legend(['Spread Z score'])\n",
        "plt.title('Spread Pair Spread Z Score Trendlines')\n",
        "plt.axhline(2.0, color = 'red')\n",
        "plt.axhline(1.5, color = 'red')\n",
        "plt.axhline(1.0, color = 'red')\n",
        "plt.axhline(-1.0, color = 'blue')\n",
        "plt.axhline(-1.5, color = 'blue')\n",
        "plt.axhline(-2.0, color = 'blue')\n",
        "plt.axhline(0.0, color = 'black')\n",
        "plt.grid()\n",
        "plt.show()"
      ],
      "execution_count": null,
      "outputs": [
        {
          "output_type": "display_data",
          "data": {
            "image/png": "[encoded data removed]",
            "text/plain": [
              "<Figure size 864x432 with 1 Axes>"
            ]
          },
          "metadata": {
            "tags": [],
            "needs_background": "light"
          }
        }
      ]
    },
    {
      "cell_type": "code",
      "metadata": {
        "id": "J9UroDIeoZcQ"
      },
      "source": [
        "## Pair Selection Results ##\n",
        "\n",
        "# 주요 Pair : GOld copper, US10 -Bund10, Copper-US10, JP10Y - Yen\n",
        "# GBP - KS200\n",
        "# Palladium, Platinum\n",
        "\n",
        "ticker_result_1 = \"GC\"\n",
        "ticker_result_2 = \"EUR/USD\"\n",
        "\n",
        "S1 = df4[ticker_result_1]\n",
        "S2 = df4[ticker_result_2]\n",
        "\n",
        "S1 = S1.dropna()\n",
        "S2 = S2.dropna()\n",
        "\n",
        "#S1 = pd.DataFrame(S1)\n",
        "#S2 = pd.DataFrame(S2)\n",
        "\n",
        "S1 = sm.add_constant(S1)\n",
        "results = sm.OLS(S2, S1).fit()\n",
        "S1 = S1[ticker_result_1]\n",
        "b = results.params[1]\n",
        "\n",
        "# spread #\n",
        "\n",
        "spread=  S2 - b * S1\n",
        "spread.plot(figsize = (12,6))\n",
        "plt.axhline(spread.mean(), color = 'black')\n",
        "plt.legend(['Spread'])\n",
        "plt.title('Pair Spread Results')\n",
        "plt.grid()\n",
        "\n",
        "df4[ticker_result_2]"
      ],
      "execution_count": null,
      "outputs": []
    },
    {
      "cell_type": "code",
      "metadata": {
        "id": "z2q_PF-noc5n"
      },
      "source": [
        "\n",
        "## Ratio Zscore ##\n",
        "#ratio =pd.DataFrame(ratio)\n",
        "\n",
        "zscore(spread).plot(figsize=  (12,6))\n",
        "plt.legend(['Spread Z score'])\n",
        "plt.title('Spread Pair Spread Z Score Trendlines')\n",
        "plt.axhline(2.0, color = 'red')\n",
        "plt.axhline(1.5, color = 'red')\n",
        "plt.axhline(1.0, color = 'red')\n",
        "plt.axhline(-1.0, color = 'blue')\n",
        "plt.axhline(-1.5, color = 'blue')\n",
        "plt.axhline(-2.0, color = 'blue')\n",
        "plt.axhline(0.0, color = 'black')\n",
        "plt.grid()\n",
        "plt.show()"
      ],
      "execution_count": null,
      "outputs": []
    },
    {
      "cell_type": "code",
      "metadata": {
        "id": "gvnj4rpPT9tZ"
      },
      "source": [
        "pairs4[1][0]\n"
      ],
      "execution_count": null,
      "outputs": []
    },
    {
      "cell_type": "code",
      "metadata": {
        "id": "tnpJnga9NIMB"
      },
      "source": [
        "## Ratio ##\n",
        "\n",
        "ratio = S1/S2\n",
        "#ratio = pd.DataFrame(ratio)\n",
        "ratio = ratio.dropna()\n",
        "\n",
        "ratio.plot(figsize=  (12,6))\n",
        "plt.axhline(ratio.mean(), color = 'black')\n",
        "plt.legend(['Ratio Spread'])\n",
        "plt.title('Ratio Pair Spread Results')\n",
        "plt.grid()"
      ],
      "execution_count": null,
      "outputs": []
    },
    {
      "cell_type": "markdown",
      "metadata": {
        "id": "3rboYp8A8pxn"
      },
      "source": [
        ""
      ]
    },
    {
      "cell_type": "code",
      "metadata": {
        "id": "KaMnhMI19pXt"
      },
      "source": [
        "## Ratio Zscore ##\n",
        "#ratio =pd.DataFrame(ratio)\n",
        "ratio = ratio.dropna()\n",
        "\n",
        "zscore(ratio).plot(figsize=  (12,6))\n",
        "plt.legend(['Ratio Z score'])\n",
        "plt.title('Ratio Pair Spread Z Score Trendlines')\n",
        "plt.axhline(2.0, color = 'red')\n",
        "plt.axhline(1.5, color = 'red')\n",
        "plt.axhline(1.0, color = 'red')\n",
        "plt.axhline(-1.0, color = 'blue')\n",
        "plt.axhline(-1.5, color = 'blue')\n",
        "plt.axhline(-2.0, color = 'blue')\n",
        "plt.axhline(0.0, color = 'black')\n",
        "plt.grid()\n",
        "plt.show()"
      ],
      "execution_count": null,
      "outputs": []
    },
    {
      "cell_type": "code",
      "metadata": {
        "id": "rDV7FJ3nbwUS"
      },
      "source": [
        "zscore(ratio).tail(30)\n",
        "#zscore(ratio).head()"
      ],
      "execution_count": null,
      "outputs": []
    },
    {
      "cell_type": "code",
      "metadata": {
        "id": "szeEY2imcXbH"
      },
      "source": [
        "## DataFrame Maker ##\n",
        "ticker_list = [ticker_result_1,ticker_result_2]\n",
        "df_list = [fdr.DataReader(ticker, time3)['Close'] for ticker in ticker_list]\n",
        "df_list\n",
        "\n",
        "df = pd.concat(df_list, axis=1)\n",
        "df.columns = ticker_list\n",
        "df = df.dropna()\n",
        "#df\n",
        "\n",
        "def corr_graph_result(ticker,ticker2, start_date):\n",
        "  corrdf = df[start_date:]\n",
        "\n",
        "  ax_0 = corrdf.plot(secondary_y = ticker2, figsize = (10,5))\n",
        "  plt.title('Graph : Two Ticker Graph')\n",
        "  plt.grid()\n",
        "  ax_0.get_legend().set_bbox_to_anchor((0.25, 0.85))\n",
        "  plt.show()\n",
        "\n",
        "corr_graph_result(ticker_result_1, ticker_result_2, time4)\n",
        "# place orders chart\n",
        "symbol_1 = df[ticker_result_1]\n",
        "symbol_2 = df[ticker_result_2]\n",
        "ratios = symbol_1 / symbol_2\n",
        "ratios.describe()\n",
        "ratios.plot()\n",
        "plt.title(\"  Ratio\")\n",
        "plt.axhline(ratios.mean())\n",
        "plt.legend(['Ratios'])\n",
        "plt.show()\n",
        "\n",
        "zscore = (ratios - ratios.mean())/ratios.std(ddof=0)\n",
        "zscore.plot()\n",
        "plt.title(\"Ratio Zscore (2Y)\")\n",
        "plt.axhline(zscore.mean(), color = \"black\")\n",
        "plt.axhline(1.0, color = \"red\")\n",
        "plt.axhline(-1.0, color = \"green\")"
      ],
      "execution_count": null,
      "outputs": []
    },
    {
      "cell_type": "code",
      "metadata": {
        "id": "TRoCpvo7TEHx"
      },
      "source": [
        "ratio"
      ],
      "execution_count": null,
      "outputs": []
    },
    {
      "cell_type": "markdown",
      "metadata": {
        "id": "zoovfYbSOlrJ"
      },
      "source": [
        "\n",
        "\n",
        "---\n",
        "Trading Signals\n",
        "\n",
        "\n",
        "---\n",
        "\n",
        "* setup rules : Prediction Variable(Y) = sign(Ratio - Ratio[1])\n",
        "* Test : Train = 0.8 : 0.2\n",
        "\n",
        "\n",
        "\n",
        "---\n",
        "* Feature Engineering\n",
        " - 60 MA of ratio\n",
        " - 5 MA of ratio\n",
        " - 60 std\n",
        " - Z score\n"
      ]
    },
    {
      "cell_type": "code",
      "metadata": {
        "id": "eowpUmrP_dgx"
      },
      "source": [
        "# Test : Train\n",
        "#print(len(ratio)*0.7)\n",
        "train = ratio[:int(len(ratio)*0.7)]\n",
        "test = ratio[int(len(ratio)*0.7):]\n",
        "train"
      ],
      "execution_count": null,
      "outputs": []
    },
    {
      "cell_type": "code",
      "metadata": {
        "id": "rzKiUj92PDJA"
      },
      "source": [
        "#### Technical Analysis with Visulization ####\n",
        "\n",
        "ratio_mavg5 = train.rolling(window = 5, center = False).mean()\n",
        "ratio_mavg60 = train.rolling(window = 60, center = False).mean()\n",
        "std_60 = train.rolling(window = 60, center = False).std()\n",
        "zscore_60_5 = (ratio_mavg5 - ratio_mavg60)/std_60\n",
        "\n",
        "df_1 = pd.concat([train, ratio_mavg5, ratio_mavg60], axis =1)\n",
        "df_1.dropna()\n",
        "df_1.columns = ['train', 'ratio_mavg5', 'ratio_mavg60']\n",
        "df_1"
      ],
      "execution_count": null,
      "outputs": []
    },
    {
      "cell_type": "code",
      "metadata": {
        "id": "78K0DkOnSopo"
      },
      "source": [
        "plt.figure(figsize= (12,6))\n",
        "plt.plot(df_1['train'])\n",
        "plt.plot(df_1['ratio_mavg5'])\n",
        "plt.plot(df_1['ratio_mavg60'])\n",
        "plt.legend(['Ratio', '5d Ratio MA', '60d Ratio MA'])\n",
        "plt.ylabel('Ratio')\n",
        "plt.title('Ratio, MA5, MA60')\n",
        "plt.grid()\n",
        "plt.show()"
      ],
      "execution_count": null,
      "outputs": []
    },
    {
      "cell_type": "code",
      "metadata": {
        "id": "JRhHTOA4PDMG"
      },
      "source": [
        "#plt.legend(['Rolling Ratio Z score'])\n",
        "plt.figure(figsize = (20,15))\n",
        "plt.title('Rolling Ratio Pair Spread Z Score Trendlines')\n",
        "zscore_60_5.plot()\n",
        "plt.axhline(2.0, color = 'red', linestyle ='--')\n",
        "plt.axhline(1.5, color = 'red', linestyle ='--')\n",
        "plt.axhline(1.0, color = 'red', linestyle ='--')\n",
        "plt.axhline(0.0, color = 'black', linestyle ='--')\n",
        "plt.axhline(-1.0, color = 'blue', linestyle ='--')\n",
        "plt.axhline(-1.5, color = 'blue', linestyle ='--')\n",
        "plt.axhline(-2.0, color = 'blue', linestyle ='--')\n",
        "plt.legend(['Rolling Ratio Z score','+2','+1.5','+1.0','0','-1.0','-1.5','-2'])\n",
        "plt.show()"
      ],
      "execution_count": null,
      "outputs": []
    },
    {
      "cell_type": "markdown",
      "metadata": {
        "id": "vgr5_Qttfuu6"
      },
      "source": [
        "\n",
        "\n",
        "---\n",
        "\n",
        "\n",
        "Modeling\n",
        "\n",
        "\n",
        "---\n",
        "\n"
      ]
    },
    {
      "cell_type": "code",
      "metadata": {
        "id": "naILzU_pY1k2"
      },
      "source": [
        "plt.figure(figsize = (12,6))\n",
        "\n",
        "train[150:].plot()\n",
        "buy = train.copy()\n",
        "sell = train.copy()\n",
        "\n",
        "buy[zscore_60_5 > - 1] = 0\n",
        "sell[zscore_60_5 < 1] = 0\n",
        "buy[150:].plot(color ='g', linestyle = 'None', marker = '^')\n",
        "sell[150:].plot(color ='r', linestyle = 'None', marker = '^')\n",
        "\n",
        "x1, x2, y1, y2 = plt.axis()\n",
        "plt.axis((x1, x2, ratio.min(), ratio.max()))\n",
        "plt.legend(['Ratio',' Buy','Sell'])\n",
        "plt.grid()\n",
        "plt.show()"
      ],
      "execution_count": null,
      "outputs": []
    },
    {
      "cell_type": "code",
      "metadata": {
        "id": "UPRQmHSsjjgA"
      },
      "source": [
        "plt.figure(figsize = (12,7))\n",
        "\n",
        "S1 = df4[ticker_result_1].iloc[:int(len(ratio)*0.7)]\n",
        "S2 = df4[ticker_result_2].iloc[:int(len(ratio)*0.7)]\n",
        "\n",
        "S1[60:].plot(color = 'b')\n",
        "S2[60:].plot(color = 'c')\n",
        "buyR = 0*S1.copy()\n",
        "sellR = 0 *S2.copy()\n",
        "\n",
        "# long ratio\n",
        "buyR[buy!=0] = S1[buy!=0]\n",
        "sellR[buy!=0] = S2[buy!=0]\n",
        "\n",
        "# short ratio\n",
        "buyR[sell!=0] = S2[sell!=0]\n",
        "sellR[sell!=0] = S2[sell!=0]\n",
        "\n",
        "# visulaization #\n",
        "buyR[60:].plot(color = 'g', linestyle = 'None', marker = '^')\n",
        "sellR[60:].plot(color = 'r', linestyle = 'None', marker = '^')\n",
        "#\n",
        "x1, x2, y1, y2 = plt.axis()\n",
        "plt.axis((x1, x2, min(S1.min(), S2.min()), max(S1.max(), S2.max())))\n",
        "plt.legend([ticker_result_1, ticker_result_2, 'Buy', 'Sell'])\n",
        "plt.grid()\n",
        "plt.show()"
      ],
      "execution_count": null,
      "outputs": []
    },
    {
      "cell_type": "markdown",
      "metadata": {
        "id": "rWc9_qnoGZ56"
      },
      "source": [
        "\n",
        "\n",
        "---\n",
        "Trading System\n",
        "\n",
        "\n",
        "---\n",
        "\n",
        "\n"
      ]
    },
    {
      "cell_type": "code",
      "metadata": {
        "id": "kYIClo-vFhar"
      },
      "source": [
        "def trade(S1, S2, window1=60, window2=5):\n",
        "\n",
        "  #if window length is 0, algro not works\n",
        "  if (window1==0) or (window2 ==0 ):\n",
        "    return 0\n",
        "  \n",
        "  # mean and std\n",
        "  ratio= S1/S2\n",
        "  ma1 = ratio.rolling(window = window1, center = False).mean()\n",
        "  ma2 = ratio.rolling(window = window2, center = False).mean()\n",
        "  std = ratio.rolling(window = window2, center = False).std()\n",
        "  zscore= (ma1 - ma2)/std\n",
        "\n",
        "  # Money Management #\n",
        "  money = 0\n",
        "  countS1 = 0\n",
        "  countS2 = 0\n",
        "  for i in range(len(ratio)):\n",
        "    if zscore[i] < -1:\n",
        "      money += S1[i] - S2[i] * ratio[i]\n",
        "      countS1 -= 1\n",
        "      countS2 += ratio[i]\n",
        "    elif zscore[i] > 1:\n",
        "      money -= S1[i] - S2[i] * ratio[i]\n",
        "      countS1 += 1\n",
        "      countS2 -= ratio[i]\n",
        "    \n",
        "    #exit\n",
        "    elif abs(zscore[i]) < 0.75:\n",
        "      money+=S1[i] * countS1 + S2[i] * countS2\n",
        "      countS1 = 0\n",
        "      countS2 = 0\n",
        "  return money\n",
        "\n",
        "trade(df4[ticker_result_1].iloc[int(len(ratio)*0.7):], df4[ticker_result_2].iloc[int(len(ratio)*0.7):])"
      ],
      "execution_count": null,
      "outputs": []
    },
    {
      "cell_type": "code",
      "metadata": {
        "id": "Oaqv_1ZhEBgO"
      },
      "source": [
        "'''\n",
        "#### initial set trailing stop for long position  \n",
        "context.longstop = data[stock].price * (1 - .05) # 5% stop-loss price\n",
        "\n",
        "# update: increase (never decrease) stop-loss  \n",
        "context.longstop = max( context.longstop, data[stock].price * (1 - .05) ) # 5% target\n",
        "\n",
        "# test stop-loss  \n",
        "if data[stock].price < context.longstop:  \n",
        "   # sell everything  '''"
      ],
      "execution_count": null,
      "outputs": []
    },
    {
      "cell_type": "code",
      "metadata": {
        "id": "s9G-8bWBgCNv"
      },
      "source": [
        "\n",
        "## DataFrame Maker ##\n",
        "ticker_list = [ticker_result_1, ticker_result_2]\n",
        "df_list = [fdr.DataReader(ticker, time3)['Close'] for ticker in ticker_list]\n",
        "df_list\n",
        "\n",
        "df = pd.concat(df_list, axis=1)\n",
        "df.columns = ticker_list\n",
        "df = df.dropna()\n",
        "#df\n",
        "\n",
        "def corr_graph_result(ticker,ticker2, start_date):\n",
        "  corrdf = df[start_date:]\n",
        "\n",
        "  ax_0 = corrdf.plot(secondary_y = ticker2, figsize = (10,5))\n",
        "  plt.title('Graph : Two Ticker Graph')\n",
        "  plt.grid()\n",
        "  ax_0.get_legend().set_bbox_to_anchor((0.25, 0.85))\n",
        "  plt.show()\n",
        "\n",
        "corr_graph_result(ticker_result_1,ticker_result_2,time3)\n",
        "# place orders chart\n",
        "symbol_1 = df[ticker_result_1]\n",
        "symbol_2 = df[ticker_result_2]\n",
        "ratios = symbol_1 / symbol_2\n",
        "ratios.describe()\n",
        "ratios.plot()\n",
        "plt.title(\"Ratio\")\n",
        "plt.axhline(ratios.mean())\n",
        "plt.legend(['Ratios'])\n",
        "plt.show()\n",
        "\n",
        "zscore = (ratios - ratios.mean())/ratios.std(ddof=0)\n",
        "zscore.plot()\n",
        "plt.title(\"Ratio Zscore (1y)\")\n",
        "plt.axhline(zscore.mean(), color = \"black\")\n",
        "plt.axhline(1.0, color = \"red\")\n",
        "plt.axhline(-1.0, color = \"green\")"
      ],
      "execution_count": null,
      "outputs": []
    },
    {
      "cell_type": "code",
      "metadata": {
        "id": "ggo5RTstgSXR"
      },
      "source": [
        "### Main Trading Strategy : Ratio Zscore ###\n",
        "\n",
        "# Strategy : Ratios(price1 / price2)'s Zscore\n",
        "# Enter Position : z score < -1 => short symbol1, long symbol2\n",
        "# Exit Position : next z score within -1 ~ +1 => long symbol1, short symbol2\n",
        "\n",
        "# Data Frame #\n",
        "symbol1_buy=symbol_1.copy()\n",
        "symbol1_sell=symbol_1.copy()\n",
        "symbol2_buy=symbol_2.copy()\n",
        "symbol2_sell=symbol_2.copy()\n",
        "symbol1_buy[zscore>-1] = 0\n",
        "symbol2_sell[zscore>-1] = 0\n",
        "symbol1_sell[zscore<1] = 0\n",
        "symbol2_buy[zscore<1] = 0\n",
        "\n",
        "pair_correlation_trading_strategy = pd.DataFrame(index = symbol_1.index)\n",
        "pair_correlation_trading_strategy['Symbol1_close'] = symbol_1\n",
        "pair_correlation_trading_strategy['Symbol2_close'] = symbol_2\n",
        "pair_correlation_trading_strategy['Symbol1_buy'] = np.zeros(len(symbol_1))\n",
        "pair_correlation_trading_strategy['Symbol1_sell'] = np.zeros(len(symbol_1))\n",
        "pair_correlation_trading_strategy['Symbol2_buy'] = np.zeros(len(symbol_1))\n",
        "pair_correlation_trading_strategy['Symbol2_sell'] = np.zeros(len(symbol_1))\n",
        "pair_correlation_trading_strategy['Delta'] = np.zeros(len(symbol_1))\n",
        "\n",
        "position = 0\n",
        "s1_shares = 1\n",
        "bigpointvalue1 = 100\n",
        "bigpointvalue2 = 50\n",
        "\n",
        "for i in np.arange(0, len(symbol_1)):\n",
        "  s1positions = symbol_1[i] * bigpointvalue1 * s1_shares\n",
        "  s2positions = symbol_2[i] * bigpointvalue2 * int(s1positions/(symbol_2[i]*bigpointvalue2)) \n",
        "  delta_position = s1positions-s2positions\n",
        "\n",
        "  if not position and symbol1_buy[i] != 0:\n",
        "    pair_correlation_trading_strategy['Symbol1_buy'][i] = s1positions\n",
        "    pair_correlation_trading_strategy['Symbol2_sell'][i] = s2positions\n",
        "    pair_correlation_trading_strategy['Delta'][i] = delta_position\n",
        "    position = 1\n",
        "  elif not position and symbol1_sell[i] != 0:\n",
        "    pair_correlation_trading_strategy['Symbol1_sell'][i] =  s1positions\n",
        "    pair_correlation_trading_strategy['Symbol2_buy'][i] =  s2positions\n",
        "    pair_correlation_trading_strategy['Delta'][i] = delta_position\n",
        "    position = -1\n",
        "  elif position == -1  and (symbol1_sell[i] ==0 or i == len(symbol_1)-1):\n",
        "    pair_correlation_trading_strategy['Symbol1_buy'][i] = s1positions\n",
        "    pair_correlation_trading_strategy['Symbol2_sell'][i] = s2positions\n",
        "    position = 0\n",
        "  elif position == 1 and  (symbol1_buy[i]==0 or i == len(symbol_2)-1):\n",
        "    pair_correlation_trading_strategy['Symbol1_sell'][i] =s1positions\n",
        "    pair_correlation_trading_strategy['Symbol2_buy'][i] =s2positions\n",
        "    position = 0\n",
        "\n",
        "pair_correlation_trading_strategy['Symbol1_position'] =pair_correlation_trading_strategy['Symbol1_buy']-pair_correlation_trading_strategy['Symbol1_sell']\n",
        "pair_correlation_trading_strategy['Symbol2_position'] =pair_correlation_trading_strategy['Symbol2_buy']-pair_correlation_trading_strategy['Symbol2_sell']\n",
        "pair_correlation_trading_strategy['Symbol1_position'].cumsum().plot(linestyle = \"--\")\n",
        "pair_correlation_trading_strategy['Symbol2_position'].cumsum().plot(linestyle = \":\")\n",
        "pair_correlation_trading_strategy['Total_position'] =pair_correlation_trading_strategy['Symbol1_position'] + pair_correlation_trading_strategy['Symbol2_position']\n",
        "pair_correlation_trading_strategy['Total_position'].cumsum().plot()\n",
        "plt.title(\"Symbol1 and Symbol2 positions\")\n",
        "plt.legend()\n",
        "plt.show()"
      ],
      "execution_count": null,
      "outputs": []
    },
    {
      "cell_type": "code",
      "metadata": {
        "id": "W23dLacCgTpN"
      },
      "source": [
        "pair_correlation_trading_strategy['Delta'].plot()\n",
        "plt.title(\"Delta Position\")\n",
        "plt.show()"
      ],
      "execution_count": null,
      "outputs": []
    }
  ]
}