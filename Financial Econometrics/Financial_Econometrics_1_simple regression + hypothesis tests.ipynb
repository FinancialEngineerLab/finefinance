{
  "nbformat": 4,
  "nbformat_minor": 0,
  "metadata": {
    "colab": {
      "name": "Financial_Econometrics_1+simpleregression+hypothesistests.ipynb",
      "provenance": [],
      "collapsed_sections": [],
      "authorship_tag": "ABX9TyNjrk/9xCE2pOkMk4EmJAtK",
      "include_colab_link": true
    },
    "kernelspec": {
      "name": "python3",
      "display_name": "Python 3"
    }
  },
  "cells": [
    {
      "cell_type": "markdown",
      "metadata": {
        "id": "view-in-github",
        "colab_type": "text"
      },
      "source": [
        "<a href=\"https://colab.research.google.com/github/MFEshinhyunjin/finefinance/blob/master/Financial_Econometrics_1_simple%20regression%20%2B%20hypothesis%20tests.ipynb\" target=\"_parent\"><img src=\"https://colab.research.google.com/assets/colab-badge.svg\" alt=\"Open In Colab\"/></a>"
      ]
    },
    {
      "cell_type": "markdown",
      "metadata": {
        "id": "7eZzodEYFtJ5",
        "colab_type": "text"
      },
      "source": [
        "Econometrics for Finance with Python Programming\n",
        "\n",
        "* Main Refercence : Brooks, Chris (University of Reading)\n",
        "* Author : Shin Hyunjin\n",
        "** Education : Financial Engineering, KAIST\n",
        "** Work : Prop Derivative Trader, Kyobo Securities\n",
        "\n",
        "금융계량경제학 (파이썬 활용한)\n",
        "\n",
        "* 주 참고 : 브룩스 교재 (영국 리딩대학교)\n",
        "* 저자 : 신현진\n",
        "** 학력 : KAIST 금융공학(애널리틱스전공)\n",
        "** 경력 : 교보증권 프랍트레이더(파생상품)"
      ]
    },
    {
      "cell_type": "markdown",
      "metadata": {
        "id": "-rD5ekeWnPEr",
        "colab_type": "text"
      },
      "source": [
        "\n",
        "\n",
        "---\n",
        "\n",
        "Part I. Regression Methods\n",
        "1. Simple Regression\n",
        "2. Hypothesis Test\n",
        "3. Estimation and Hypothesis Test\n",
        "\n",
        "\n",
        "---\n",
        "\n"
      ]
    },
    {
      "cell_type": "markdown",
      "metadata": {
        "id": "uXw1x18cL9Y3",
        "colab_type": "text"
      },
      "source": [
        "\n",
        "\n",
        "---\n",
        "\n",
        "Ch1. Simple Regression \n",
        "(Brooks 3.3, 2019)\n",
        "\n",
        "* Objectives\n",
        "1. How to upload and import datasets in Google Colab\n",
        "2. How to use OLS results\n",
        "\n",
        "\n",
        "\n",
        "---\n",
        "\n"
      ]
    },
    {
      "cell_type": "code",
      "metadata": {
        "id": "ECHTyvBQ6fPe",
        "colab_type": "code",
        "colab": {}
      },
      "source": [
        "#### 1. Simple Regression ####"
      ],
      "execution_count": 0,
      "outputs": []
    },
    {
      "cell_type": "code",
      "metadata": {
        "id": "qmgLaCsnL12O",
        "colab_type": "code",
        "colab": {
          "resources": {
            "http://localhost:8080/nbextensions/google.colab/files.js": {
              "data": "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",
              "ok": true,
              "headers": [
                [
                  "content-type",
                  "application/javascript"
                ]
              ],
              "status": 200,
              "status_text": "OK"
            }
          },
          "base_uri": "https://localhost:8080/",
          "height": 96
        },
        "outputId": "042577aa-e6bb-4344-8d87-7478e76754fa"
      },
      "source": [
        "## Data Upload in Google colab ##\n",
        "\n",
        "from google.colab import files\n",
        "uploaded = files.upload() # file upload execution\n",
        "\n",
        "for fn in uploaded.keys(): # uploaded information\n",
        "  print('User uploaded file \"{name}\" with length {length} bytes'.format(\n",
        "      name=fn, length=len(uploaded[fn])))"
      ],
      "execution_count": 2,
      "outputs": [
        {
          "output_type": "display_data",
          "data": {
            "text/html": [
              "\n",
              "     <input type=\"file\" id=\"files-14b35ba3-893b-494a-a91c-2bc83eba4b5d\" name=\"files[]\" multiple disabled />\n",
              "     <output id=\"result-14b35ba3-893b-494a-a91c-2bc83eba4b5d\">\n",
              "      Upload widget is only available when the cell has been executed in the\n",
              "      current browser session. Please rerun this cell to enable.\n",
              "      </output>\n",
              "      <script src=\"/nbextensions/google.colab/files.js\"></script> "
            ],
            "text/plain": [
              "<IPython.core.display.HTML object>"
            ]
          },
          "metadata": {
            "tags": []
          }
        },
        {
          "output_type": "stream",
          "text": [
            "Saving 3_SandPhedge.xls to 3_SandPhedge.xls\n",
            "User uploaded file \"3_SandPhedge.xls\" with length 15360 bytes\n"
          ],
          "name": "stdout"
        }
      ]
    },
    {
      "cell_type": "code",
      "metadata": {
        "id": "gWDFatSPLsP2",
        "colab_type": "code",
        "colab": {}
      },
      "source": [
        "#load package\n",
        "import pandas as pd\n",
        "import numpy as np\n",
        "import io\n",
        "import statsmodels.formula.api as smf"
      ],
      "execution_count": 0,
      "outputs": []
    },
    {
      "cell_type": "code",
      "metadata": {
        "id": "YDyW7DixLsbj",
        "colab_type": "code",
        "colab": {}
      },
      "source": [
        "# load data and description\n",
        "\n",
        "abspath = pd.read_excel(io.BytesIO(uploaded['3_SandPhedge.xls']), index_col=0)\n",
        "print(abspath.head())\n",
        "#if string\n",
        "# pd.read_excel(io.StringIO(uploaded['file_name'].decode('utf-8')))\n",
        "\n",
        "data = abspath"
      ],
      "execution_count": 0,
      "outputs": []
    },
    {
      "cell_type": "code",
      "metadata": {
        "id": "d_CHU1BmSAME",
        "colab_type": "code",
        "colab": {
          "base_uri": "https://localhost:8080/",
          "height": 503
        },
        "outputId": "ae521ff2-eaca-4fd5-80c0-d26f48c7951e"
      },
      "source": [
        "formula = 'Spot ~ Futures'\n",
        "results = smf.ols(formula, data).fit()\n",
        "print(results.summary())"
      ],
      "execution_count": 21,
      "outputs": [
        {
          "output_type": "stream",
          "text": [
            "                            OLS Regression Results                            \n",
            "==============================================================================\n",
            "Dep. Variable:                   Spot   R-squared:                       0.964\n",
            "Model:                            OLS   Adj. R-squared:                  0.964\n",
            "Method:                 Least Squares   F-statistic:                     1726.\n",
            "Date:                Mon, 13 Jan 2020   Prob (F-statistic):           5.16e-48\n",
            "Time:                        00:23:43   Log-Likelihood:                -325.20\n",
            "No. Observations:                  66   AIC:                             654.4\n",
            "Df Residuals:                      64   BIC:                             658.8\n",
            "Df Model:                           1                                         \n",
            "Covariance Type:            nonrobust                                         \n",
            "==============================================================================\n",
            "                 coef    std err          t      P>|t|      [0.025      0.975]\n",
            "------------------------------------------------------------------------------\n",
            "Intercept     21.1107     27.711      0.762      0.449     -34.249      76.470\n",
            "Futures        0.9822      0.024     41.543      0.000       0.935       1.029\n",
            "==============================================================================\n",
            "Omnibus:                        5.056   Durbin-Watson:                   1.902\n",
            "Prob(Omnibus):                  0.080   Jarque-Bera (JB):                4.696\n",
            "Skew:                          -0.653   Prob(JB):                       0.0956\n",
            "Kurtosis:                       3.017   Cond. No.                     7.78e+03\n",
            "==============================================================================\n",
            "\n",
            "Warnings:\n",
            "[1] Standard Errors assume that the covariance matrix of the errors is correctly specified.\n",
            "[2] The condition number is large, 7.78e+03. This might indicate that there are\n",
            "strong multicollinearity or other numerical problems.\n"
          ],
          "name": "stdout"
        }
      ]
    },
    {
      "cell_type": "code",
      "metadata": {
        "id": "hQpLVJhVQZRq",
        "colab_type": "code",
        "colab": {}
      },
      "source": [
        "# Log diff : more intermediated method #\n",
        "\n",
        "def LogDiff(x):\n",
        "  x_diff = 100 * np.log(x/x.shift(1))\n",
        "  x_diff = x_diff.dropna()\n",
        "  return x_diff\n",
        "\n",
        "data = pd.DataFrame({'ret_spot' : LogDiff(data['Spot']),\n",
        "                     'ret_future' : LogDiff(data['Futures'])})\n",
        "data.head()"
      ],
      "execution_count": 0,
      "outputs": []
    },
    {
      "cell_type": "code",
      "metadata": {
        "id": "t1i8RWfQhiqx",
        "colab_type": "code",
        "colab": {}
      },
      "source": [
        "data.describe()"
      ],
      "execution_count": 0,
      "outputs": []
    },
    {
      "cell_type": "code",
      "metadata": {
        "id": "k-xZv80ThimH",
        "colab_type": "code",
        "colab": {
          "base_uri": "https://localhost:8080/",
          "height": 467
        },
        "outputId": "61431616-82bb-48a8-bac9-5630a0ac5aae"
      },
      "source": [
        "formula = 'ret_spot ~ ret_future'\n",
        "results = smf.ols(formula, data).fit()\n",
        "print(results.summary())"
      ],
      "execution_count": 26,
      "outputs": [
        {
          "output_type": "stream",
          "text": [
            "                            OLS Regression Results                            \n",
            "==============================================================================\n",
            "Dep. Variable:               ret_spot   R-squared:                       0.013\n",
            "Model:                            OLS   Adj. R-squared:                 -0.002\n",
            "Method:                 Least Squares   F-statistic:                    0.8571\n",
            "Date:                Mon, 13 Jan 2020   Prob (F-statistic):              0.358\n",
            "Time:                        01:42:36   Log-Likelihood:                -173.51\n",
            "No. Observations:                  65   AIC:                             351.0\n",
            "Df Residuals:                      63   BIC:                             355.4\n",
            "Df Model:                           1                                         \n",
            "Covariance Type:            nonrobust                                         \n",
            "==============================================================================\n",
            "                 coef    std err          t      P>|t|      [0.025      0.975]\n",
            "------------------------------------------------------------------------------\n",
            "Intercept      0.3633      0.444      0.818      0.417      -0.525       1.251\n",
            "ret_future     0.1239      0.134      0.926      0.358      -0.143       0.391\n",
            "==============================================================================\n",
            "Omnibus:                       11.985   Durbin-Watson:                   2.117\n",
            "Prob(Omnibus):                  0.002   Jarque-Bera (JB):               15.302\n",
            "Skew:                          -0.742   Prob(JB):                     0.000476\n",
            "Kurtosis:                       4.857   Cond. No.                         3.36\n",
            "==============================================================================\n",
            "\n",
            "Warnings:\n",
            "[1] Standard Errors assume that the covariance matrix of the errors is correctly specified.\n"
          ],
          "name": "stdout"
        }
      ]
    },
    {
      "cell_type": "markdown",
      "metadata": {
        "id": "-KEcUR5RlbnA",
        "colab_type": "text"
      },
      "source": [
        "\n",
        "\n",
        "---\n",
        "\n",
        "Ch2. Hypothesis Testing \n",
        "\n",
        "(Brooks 3.8-3.9)\n",
        "\n",
        "* Objective\n",
        "1. t test\n",
        "2. F test\n",
        "\n",
        "\n",
        "---\n",
        "* Contents\n",
        "H0 : Beta = 0\n",
        "H1 : Beta not equal 0\n",
        "\n",
        "we use p value whether it is less or higher than significance level.\n",
        "\n",
        "if p value is larger than significance level, no h0 rejection.\n",
        "else h0 rejection."
      ]
    },
    {
      "cell_type": "code",
      "metadata": {
        "id": "IPVywNhnla7W",
        "colab_type": "code",
        "colab": {
          "base_uri": "https://localhost:8080/",
          "height": 35
        },
        "outputId": "bc1e7eae-b744-4dfc-bffa-c2f123f13bf5"
      },
      "source": [
        "import pandas as pd\n",
        "import numpy as np\n",
        "import statsmodels.formula.api as smf\n",
        "\n",
        "data = pd.read_excel(io.BytesIO(uploaded['3_SandPhedge.xls']), index_col=0)\n",
        "\n",
        "# F test with raw Data #\n",
        "formula = 'Spot ~ Futures'\n",
        "hypotheses = 'Futures = 1'\n",
        "results = smf.ols(formula, data).fit()\n",
        "f_test = results.f_test(hypotheses)\n",
        "print(f_test)"
      ],
      "execution_count": 33,
      "outputs": [
        {
          "output_type": "stream",
          "text": [
            "<F test: F=array([[0.56529798]]), p=0.45488966220666416, df_denom=64, df_num=1>\n"
          ],
          "name": "stdout"
        }
      ]
    },
    {
      "cell_type": "code",
      "metadata": {
        "id": "uDLHoSNHp8vG",
        "colab_type": "code",
        "colab": {
          "base_uri": "https://localhost:8080/",
          "height": 35
        },
        "outputId": "19fbfff7-caa7-4310-ffc7-25dc78fb5d70"
      },
      "source": [
        "# F test with return data #\n",
        "\n",
        "def LogDiff(x):\n",
        "  x_diff = 100 * np.log(x/x.shift(1))\n",
        "  x_diff = x_diff.dropna()\n",
        "  return x_diff\n",
        "\n",
        "data = pd.DataFrame({'ret_spot' : LogDiff(data['Spot']),\n",
        "                     'ret_future' : LogDiff(data['Futures'])})\n",
        "\n",
        "formula = 'ret_spot ~ ret_future'\n",
        "hypotheses = 'ret_future = 1'\n",
        "results = smf.ols(formula, data).fit()\n",
        "f_test = results.f_test(hypotheses)\n",
        "print(f_test)"
      ],
      "execution_count": 34,
      "outputs": [
        {
          "output_type": "stream",
          "text": [
            "<F test: F=array([[42.88455196]]), p=1.2147392466449456e-08, df_denom=63, df_num=1>\n"
          ],
          "name": "stdout"
        }
      ]
    },
    {
      "cell_type": "markdown",
      "metadata": {
        "id": "uETvw_yumXOp",
        "colab_type": "text"
      },
      "source": [
        "\n",
        "\n",
        "---\n",
        "\n",
        "Ch3. Estimation and hypothesis testing\n",
        "\n",
        "(Brooks 3.10 - 3.11)\n",
        "\n",
        "\n",
        "---\n",
        "\n"
      ]
    },
    {
      "cell_type": "code",
      "metadata": {
        "id": "jnS9-ey2YsxV",
        "colab_type": "code",
        "colab": {}
      },
      "source": [
        "### Example 2: CAPM ###\n",
        "\n",
        "import pandas as pd\n",
        "import numpy as np\n",
        "import statsmodels.formula.api as smf\n",
        "import matplotlib.pyplot as plt"
      ],
      "execution_count": 0,
      "outputs": []
    },
    {
      "cell_type": "code",
      "metadata": {
        "id": "5sXMsC9JZM_Z",
        "colab_type": "code",
        "colab": {}
      },
      "source": [
        "## Data Upload in Google colab ##\n",
        "from google.colab import files\n",
        "uploaded = files.upload() # file upload execution\n",
        "\n",
        "for fn in uploaded.keys(): # uploaded information\n",
        "  print('User uploaded file \"{name}\" with length {length} bytes'.format(\n",
        "      name=fn, length=len(uploaded[fn])))"
      ],
      "execution_count": 0,
      "outputs": []
    },
    {
      "cell_type": "code",
      "metadata": {
        "id": "Dw3aYcIPYs9M",
        "colab_type": "code",
        "colab": {
          "base_uri": "https://localhost:8080/",
          "height": 433
        },
        "outputId": "318e3a3f-aa79-49de-d56c-905bcaf8911f"
      },
      "source": [
        "# load data and description\n",
        "abspath = pd.read_excel(io.BytesIO(uploaded['5_capm.xls']), index_col=0)\n",
        "print(abspath.head())\n",
        "#if string\n",
        "# pd.read_excel(io.StringIO(uploaded['file_name'].decode('utf-8')))\n",
        "\n",
        "data = abspath\n",
        "print(data.describe(), data.head())"
      ],
      "execution_count": 38,
      "outputs": [
        {
          "output_type": "stream",
          "text": [
            "              SANDP  FORD     GM  MICROSOFT    SUN  USTB3M\n",
            "Date                                                      \n",
            "2002-01-01  1130.20  0.95  39.55      27.33  17.27    1.73\n",
            "2002-02-01  1106.73  0.95  41.40      25.02  17.36    1.75\n",
            "2002-03-01  1147.39  0.90  47.23      25.87  18.04    1.77\n",
            "2002-04-01  1076.92  0.80  50.12      22.41  15.50    1.78\n",
            "2002-05-01  1067.14  0.76  48.92      21.84  16.14    1.77\n",
            "             SANDP       FORD         GM  MICROSOFT        SUN     USTB3M\n",
            "count    64.000000  64.000000  64.000000  64.000000  64.000000  64.000000\n",
            "mean   1142.922500   5.663750  32.831562  24.362187  41.376875   2.577031\n",
            "std     164.177365   6.505966   6.945924   2.527132  23.854843   1.557040\n",
            "min     815.280000   0.760000  18.440000  18.760000  13.650000   0.880000\n",
            "25%    1040.035000   1.915000  28.872500  22.617500  17.347500   1.177500\n",
            "50%    1142.890000   2.650000  31.980000  24.090000  34.085000   1.770000\n",
            "75%    1254.632500   5.625000  36.835000  25.855000  65.647500   4.025000\n",
            "max    1482.370000  26.750000  50.120000  30.650000  93.100000   5.150000               SANDP  FORD     GM  MICROSOFT    SUN  USTB3M\n",
            "Date                                                      \n",
            "2002-01-01  1130.20  0.95  39.55      27.33  17.27    1.73\n",
            "2002-02-01  1106.73  0.95  41.40      25.02  17.36    1.75\n",
            "2002-03-01  1147.39  0.90  47.23      25.87  18.04    1.77\n",
            "2002-04-01  1076.92  0.80  50.12      22.41  15.50    1.78\n",
            "2002-05-01  1067.14  0.76  48.92      21.84  16.14    1.77\n"
          ],
          "name": "stdout"
        }
      ]
    },
    {
      "cell_type": "code",
      "metadata": {
        "id": "G3sZXjWlYs5c",
        "colab_type": "code",
        "colab": {
          "base_uri": "https://localhost:8080/",
          "height": 235
        },
        "outputId": "3cfad62c-9a64-4944-ead4-2476fe10244a"
      },
      "source": [
        "# Log Adjustment and Data Framing #\n",
        "\n",
        "def LogDiff(x):\n",
        "  x_diff = 100 * np.log(x/x.shift(1))\n",
        "  x_diff = x_diff.dropna()\n",
        "  return x_diff\n",
        "\n",
        "# data framing #\n",
        "data = pd.DataFrame({'ret_sandp' : LogDiff(data['SANDP']),\n",
        "                     'ret_ford' : LogDiff(data['FORD']),\n",
        "                     'USTB3M' : data['USTB3M']/12,\n",
        "                     'ersandp' : LogDiff(data['SANDP'])- data['USTB3M']/12,\n",
        "                     'erford' : LogDiff(data['FORD']) - data['USTB3M']/12})\n",
        "data.head()"
      ],
      "execution_count": 41,
      "outputs": [
        {
          "output_type": "execute_result",
          "data": {
            "text/html": [
              "<div>\n",
              "<style scoped>\n",
              "    .dataframe tbody tr th:only-of-type {\n",
              "        vertical-align: middle;\n",
              "    }\n",
              "\n",
              "    .dataframe tbody tr th {\n",
              "        vertical-align: top;\n",
              "    }\n",
              "\n",
              "    .dataframe thead th {\n",
              "        text-align: right;\n",
              "    }\n",
              "</style>\n",
              "<table border=\"1\" class=\"dataframe\">\n",
              "  <thead>\n",
              "    <tr style=\"text-align: right;\">\n",
              "      <th></th>\n",
              "      <th>ret_sandp</th>\n",
              "      <th>ret_ford</th>\n",
              "      <th>USTB3M</th>\n",
              "      <th>ersandp</th>\n",
              "      <th>erford</th>\n",
              "    </tr>\n",
              "    <tr>\n",
              "      <th>Date</th>\n",
              "      <th></th>\n",
              "      <th></th>\n",
              "      <th></th>\n",
              "      <th></th>\n",
              "      <th></th>\n",
              "    </tr>\n",
              "  </thead>\n",
              "  <tbody>\n",
              "    <tr>\n",
              "      <th>2002-01-01</th>\n",
              "      <td>NaN</td>\n",
              "      <td>NaN</td>\n",
              "      <td>0.144167</td>\n",
              "      <td>NaN</td>\n",
              "      <td>NaN</td>\n",
              "    </tr>\n",
              "    <tr>\n",
              "      <th>2002-02-01</th>\n",
              "      <td>-2.098489</td>\n",
              "      <td>0.000000</td>\n",
              "      <td>0.145833</td>\n",
              "      <td>-2.244322</td>\n",
              "      <td>-0.145833</td>\n",
              "    </tr>\n",
              "    <tr>\n",
              "      <th>2002-03-01</th>\n",
              "      <td>3.608008</td>\n",
              "      <td>-5.406722</td>\n",
              "      <td>0.147500</td>\n",
              "      <td>3.460508</td>\n",
              "      <td>-5.554222</td>\n",
              "    </tr>\n",
              "    <tr>\n",
              "      <th>2002-04-01</th>\n",
              "      <td>-6.338468</td>\n",
              "      <td>-11.778304</td>\n",
              "      <td>0.148333</td>\n",
              "      <td>-6.486802</td>\n",
              "      <td>-11.926637</td>\n",
              "    </tr>\n",
              "    <tr>\n",
              "      <th>2002-05-01</th>\n",
              "      <td>-0.912294</td>\n",
              "      <td>-5.129329</td>\n",
              "      <td>0.147500</td>\n",
              "      <td>-1.059794</td>\n",
              "      <td>-5.276829</td>\n",
              "    </tr>\n",
              "  </tbody>\n",
              "</table>\n",
              "</div>"
            ],
            "text/plain": [
              "            ret_sandp   ret_ford    USTB3M   ersandp     erford\n",
              "Date                                                           \n",
              "2002-01-01        NaN        NaN  0.144167       NaN        NaN\n",
              "2002-02-01  -2.098489   0.000000  0.145833 -2.244322  -0.145833\n",
              "2002-03-01   3.608008  -5.406722  0.147500  3.460508  -5.554222\n",
              "2002-04-01  -6.338468 -11.778304  0.148333 -6.486802 -11.926637\n",
              "2002-05-01  -0.912294  -5.129329  0.147500 -1.059794  -5.276829"
            ]
          },
          "metadata": {
            "tags": []
          },
          "execution_count": 41
        }
      ]
    },
    {
      "cell_type": "code",
      "metadata": {
        "id": "gLgd8ugGerDk",
        "colab_type": "code",
        "colab": {
          "base_uri": "https://localhost:8080/",
          "height": 423
        },
        "outputId": "71993a57-1a9b-4b27-d950-8b6ec7538c03"
      },
      "source": [
        "# Visulaization #\n",
        "# 1. Time Series Plots #\n",
        "plt.figure(1)\n",
        "plt.plot(data['ersandp'], label = 'ersandp')\n",
        "plt.plot(data['erford'], label = ' erford')\n",
        "plt.xlabel('Data')\n",
        "plt.ylabel('ersandp/erford')\n",
        "plt.title('Graph')\n",
        "plt.grid(True)\n",
        "\n",
        "plt.legend()\n",
        "plt.show()"
      ],
      "execution_count": 42,
      "outputs": [
        {
          "output_type": "stream",
          "text": [
            "/usr/local/lib/python3.6/dist-packages/pandas/plotting/_matplotlib/converter.py:103: FutureWarning: Using an implicitly registered datetime converter for a matplotlib plotting method. The converter was registered by pandas on import. Future versions of pandas will require you to explicitly register matplotlib converters.\n",
            "\n",
            "To register the converters:\n",
            "\t>>> from pandas.plotting import register_matplotlib_converters\n",
            "\t>>> register_matplotlib_converters()\n",
            "  warnings.warn(msg, FutureWarning)\n"
          ],
          "name": "stderr"
        },
        {
          "output_type": "display_data",
          "data": {
            "image/png": "[encoded data removed]",
            "text/plain": [
              "<Figure size 432x288 with 1 Axes>"
            ]
          },
          "metadata": {
            "tags": []
          }
        }
      ]
    },
    {
      "cell_type": "code",
      "metadata": {
        "id": "Amc1LE2keq9J",
        "colab_type": "code",
        "colab": {
          "base_uri": "https://localhost:8080/",
          "height": 295
        },
        "outputId": "8c8353b9-956e-446e-fb36-b889434cb37b"
      },
      "source": [
        "# 2. Scatter Charts #\n",
        "plt.figure(2)\n",
        "plt.scatter(data['ersandp'], data['erford'])\n",
        "plt.xlabel('ersandp')\n",
        "plt.ylabel('erford')\n",
        "plt.title('Graph')\n",
        "plt.grid(True)\n",
        "plt.show()"
      ],
      "execution_count": 43,
      "outputs": [
        {
          "output_type": "display_data",
          "data": {
            "image/png": "[encoded data removed]",
            "text/plain": [
              "<Figure size 432x288 with 1 Axes>"
            ]
          },
          "metadata": {
            "tags": []
          }
        }
      ]
    },
    {
      "cell_type": "code",
      "metadata": {
        "id": "82-Imfn4hkXg",
        "colab_type": "code",
        "colab": {
          "base_uri": "https://localhost:8080/",
          "height": 467
        },
        "outputId": "9a446093-3ec3-497a-c414-5dc4f72e4fe7"
      },
      "source": [
        "## CAPM OLS and Hypothesis Test ##\n",
        "formula = 'erford ~ ersandp'\n",
        "results = smf.ols(formula, data).fit()\n",
        "print(results.summary())"
      ],
      "execution_count": 44,
      "outputs": [
        {
          "output_type": "stream",
          "text": [
            "                            OLS Regression Results                            \n",
            "==============================================================================\n",
            "Dep. Variable:                 erford   R-squared:                       0.003\n",
            "Model:                            OLS   Adj. R-squared:                 -0.013\n",
            "Method:                 Least Squares   F-statistic:                    0.2050\n",
            "Date:                Mon, 13 Jan 2020   Prob (F-statistic):              0.652\n",
            "Time:                        06:29:26   Log-Likelihood:                -283.67\n",
            "No. Observations:                  63   AIC:                             571.3\n",
            "Df Residuals:                      61   BIC:                             575.6\n",
            "Df Model:                           1                                         \n",
            "Covariance Type:            nonrobust                                         \n",
            "==============================================================================\n",
            "                 coef    std err          t      P>|t|      [0.025      0.975]\n",
            "------------------------------------------------------------------------------\n",
            "Intercept      2.0202      2.801      0.721      0.474      -3.581       7.622\n",
            "ersandp        0.3597      0.794      0.453      0.652      -1.229       1.948\n",
            "==============================================================================\n",
            "Omnibus:                        8.234   Durbin-Watson:                   1.786\n",
            "Prob(Omnibus):                  0.016   Jarque-Bera (JB):               15.290\n",
            "Skew:                           0.236   Prob(JB):                     0.000478\n",
            "Kurtosis:                       5.367   Cond. No.                         3.53\n",
            "==============================================================================\n",
            "\n",
            "Warnings:\n",
            "[1] Standard Errors assume that the covariance matrix of the errors is correctly specified.\n"
          ],
          "name": "stdout"
        }
      ]
    },
    {
      "cell_type": "code",
      "metadata": {
        "id": "XBLzko25l-fM",
        "colab_type": "code",
        "colab": {}
      },
      "source": [
        "# F test #"
      ],
      "execution_count": 0,
      "outputs": []
    },
    {
      "cell_type": "code",
      "metadata": {
        "id": "AAoV8zJumAmn",
        "colab_type": "code",
        "colab": {
          "base_uri": "https://localhost:8080/",
          "height": 35
        },
        "outputId": "0ded6227-800c-4d98-fc55-0ff200ccfbdf"
      },
      "source": [
        "hypotheses = 'ersandp=1'\n",
        "results = smf.ols(formula, data).fit()\n",
        "f_test = results.f_test(hypotheses)\n",
        "print(f_test)"
      ],
      "execution_count": 46,
      "outputs": [
        {
          "output_type": "stream",
          "text": [
            "<F test: F=array([[0.64954035]]), p=0.4234078402614857, df_denom=61, df_num=1>\n"
          ],
          "name": "stdout"
        }
      ]
    }
  ]
}
